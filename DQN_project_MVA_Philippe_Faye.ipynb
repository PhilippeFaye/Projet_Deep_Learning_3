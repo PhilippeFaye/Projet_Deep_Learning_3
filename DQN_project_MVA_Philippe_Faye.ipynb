{
 "cells": [
  {
   "cell_type": "markdown",
   "metadata": {
    "colab_type": "text",
    "id": "lJ78Bwuhb71R"
   },
   "source": [
    "**You may need to install [OpenCV](https://pypi.python.org/pypi/opencv-python) and [scikit-video](http://www.scikit-video.org/stable/).**"
   ]
  },
  {
   "cell_type": "code",
   "execution_count": 0,
   "metadata": {
    "colab": {},
    "colab_type": "code",
    "id": "fTGBSvBCb71T"
   },
   "outputs": [],
   "source": [
    "!pip install -q scikit-video\n",
    "import keras\n",
    "import numpy as np\n",
    "import io\n",
    "import base64\n",
    "from IPython.display import HTML\n",
    "import skvideo.io\n",
    "import cv2\n",
    "import json\n",
    "\n",
    "from keras.models import Sequential,model_from_json\n",
    "from keras.layers.core import Dense\n",
    "from keras.optimizers import sgd,Adam\n",
    "from keras.layers import Conv2D, MaxPooling2D, Activation, AveragePooling2D,Reshape,BatchNormalization,Flatten,Dropout,LeakyReLU"
   ]
  },
  {
   "cell_type": "markdown",
   "metadata": {
    "colab_type": "text",
    "id": "eeVM7E3Nb71Z"
   },
   "source": [
    "# MiniProject #3: Deep Reinforcement Learning"
   ]
  },
  {
   "cell_type": "markdown",
   "metadata": {
    "colab_type": "text",
    "id": "B38-EMI8b71b"
   },
   "source": [
    "__Notations__: $E_p$ is the expectation under probability $p$. Please justify each of your answer and widely comment your code."
   ]
  },
  {
   "cell_type": "markdown",
   "metadata": {
    "colab_type": "text",
    "id": "HlfTxgFWb71c"
   },
   "source": [
    "# Context"
   ]
  },
  {
   "cell_type": "markdown",
   "metadata": {
    "colab_type": "text",
    "id": "w1H4LDZ0b71e"
   },
   "source": [
    "In a reinforcement learning algorithm, we modelize each step $t$ as an action $a_t$ obtained from a state $s_t$, i.e. $\\{(a_{t},s_{t})_{t\\leq T}\\}$ having the Markov property. We consider a discount factor $\\gamma \\in [0,1]$ that ensures convergence. The goal is to find among all the policies $\\pi$, one that maximizes the expected reward:\n",
    "\n",
    "\\begin{equation*}\n",
    "R(\\pi)=\\sum_{t\\leq T}E_{p^{\\pi}}[\\gamma^t r(s_{t},a_{t})] \\> ,\n",
    "\\end{equation*}\n",
    "\n",
    "where: \n",
    "\\begin{equation*}p^{\\pi}(a_{0},a_{1},s_{1},...,a_{T},s_{T})=p(a_{0})\\prod_{t=1}^{T}\\pi(a_{t}|s_{t})p(s_{t+1}|s_{t},a_{t}) \\> .\n",
    "\\end{equation*}\n",
    "\n",
    "We note the $Q$-function:\n",
    "\n",
    "\\begin{equation*}Q^\\pi(s,a)=E_{p^{\\pi}}[\\sum_{t\\leq T}\\gamma^{t}r(s_{t},a_{t})|s_{0}=s,a_{0}=a] \\> .\n",
    "\\end{equation*}\n",
    "\n",
    "Thus, the optimal Q function is:\n",
    "\\begin{equation*}\n",
    "Q^*(s,a)=\\max_{\\pi}Q^\\pi(s,a) \\> .\n",
    "\\end{equation*}\n",
    "\n",
    "In this project, we will apply the deep reinforcement learning techniques to a simple game: an agent will have to learn from scratch a policy that will permit it maximizing a reward."
   ]
  },
  {
   "cell_type": "markdown",
   "metadata": {
    "colab_type": "text",
    "id": "glhiKro8b71f"
   },
   "source": [
    "## The environment, the agent and the game"
   ]
  },
  {
   "cell_type": "markdown",
   "metadata": {
    "colab_type": "text",
    "id": "sN8190xFb71h"
   },
   "source": [
    "### The environment"
   ]
  },
  {
   "cell_type": "markdown",
   "metadata": {
    "colab_type": "text",
    "id": "oCxcn8cIb71i"
   },
   "source": [
    "```Environment``` is an abstract class that represents the states, rewards, and actions to obtain the new state."
   ]
  },
  {
   "cell_type": "code",
   "execution_count": 0,
   "metadata": {
    "colab": {},
    "colab_type": "code",
    "id": "50WKNBHub71j"
   },
   "outputs": [],
   "source": [
    "class Environment(object):\n",
    "    def __init__(self):\n",
    "        pass\n",
    "\n",
    "    def act(self, act):\n",
    "        \"\"\"\n",
    "        One can act on the environment and obtain its reaction:\n",
    "        - the new state\n",
    "        - the reward of the new state\n",
    "        - should we continue the game?\n",
    "\n",
    "        :return: state, reward, game_over\n",
    "        \"\"\"\n",
    "        pass\n",
    "\n",
    "\n",
    "    def reset(self):\n",
    "        \"\"\"\n",
    "        Reinitialize the environment to a random state and returns\n",
    "        the original state\n",
    "\n",
    "        :return: state\n",
    "        \"\"\"\n",
    "        pass\n",
    "    \n",
    "    def draw(self):\n",
    "        \"\"\"\n",
    "        Visualize in the console or graphically the current state\n",
    "        \"\"\"\n",
    "        pass"
   ]
  },
  {
   "cell_type": "markdown",
   "metadata": {
    "colab_type": "text",
    "id": "G0BzVc0yb71m"
   },
   "source": [
    "The method ```act``` allows to act on the environment at a given state $s_t$ (stored internally), via action $a_t$. The method will return the new state $s_{t+1}$, the reward $r(s_{t},a_{t})$ and determines if $t\\leq T$ (*game_over*).\n",
    "\n",
    "The method ```reset``` simply reinitializes the environment to a random state $s_0$.\n",
    "\n",
    "The method ```draw``` displays the current state $s_t$ (this is useful to check the behavior of the Agent).\n",
    "\n",
    "We modelize $s_t$ as a tensor, while $a_t$ is an integer."
   ]
  },
  {
   "cell_type": "markdown",
   "metadata": {
    "colab_type": "text",
    "id": "6j3MaIVBb71n"
   },
   "source": [
    "### The Agent"
   ]
  },
  {
   "cell_type": "markdown",
   "metadata": {
    "colab_type": "text",
    "id": "wG5kratYb71o"
   },
   "source": [
    "The goal of the ```Agent``` is to interact with the ```Environment``` by proposing actions $a_t$ obtained from a given state $s_t$ to attempt to maximize its __reward__ $r(s_t,a_t)$. We propose the following abstract class:"
   ]
  },
  {
   "cell_type": "code",
   "execution_count": 0,
   "metadata": {
    "colab": {},
    "colab_type": "code",
    "id": "NWzRPUflb71p"
   },
   "outputs": [],
   "source": [
    "class Agent(object):\n",
    "    def __init__(self, epsilon=0.1, n_action=4):\n",
    "        self.epsilon = epsilon\n",
    "        self.n_action = n_action\n",
    "    \n",
    "    def set_epsilon(self,e):\n",
    "        self.epsilon = e\n",
    "\n",
    "    def act(self,s,train=True):\n",
    "        \"\"\" This function should return the next action to do:\n",
    "        an integer between 0 and 4 (not included) with a random exploration of epsilon\"\"\"\n",
    "        if train:\n",
    "            if np.random.rand() <= self.epsilon:\n",
    "                a = np.random.randint(0, self.n_action, size=1)[0]\n",
    "            else:\n",
    "                a = self.learned_act(s)\n",
    "        else: # in some cases, this can improve the performance.. remove it if poor performances\n",
    "            a = self.learned_act(s)\n",
    "\n",
    "        return a\n",
    "\n",
    "    def learned_act(self,s):\n",
    "        \"\"\" Act via the policy of the agent, from a given state s\n",
    "        it proposes an action a\"\"\"\n",
    "        pass\n",
    "\n",
    "    def reinforce(self, s, n_s, a, r, game_over_):\n",
    "        \"\"\" This function is the core of the learning algorithm. \n",
    "        It takes as an input the current state s_, the next state n_s_\n",
    "        the action a_ used to move from s_ to n_s_ and the reward r_.\n",
    "        \n",
    "        Its goal is to learn a policy.\n",
    "        \"\"\"\n",
    "        pass\n",
    "\n",
    "    def save(self):\n",
    "        \"\"\" This function returns basic stats if applicable: the\n",
    "        loss and/or the model\"\"\"\n",
    "        pass\n",
    "\n",
    "    def load(self):\n",
    "        \"\"\" This function allows to restore a model\"\"\"\n",
    "        pass"
   ]
  },
  {
   "cell_type": "markdown",
   "metadata": {
    "colab_type": "text",
    "id": "iyJn3D7tb71s"
   },
   "source": [
    "***\n",
    "__Question 1__:\n",
    "Explain the function act. Why is ```epsilon``` essential?"
   ]
  },
  {
   "cell_type": "markdown",
   "metadata": {
    "colab_type": "text",
    "id": "qH03DBKPb71t"
   },
   "source": [
    "The agent has to explore different scenarios by visiting many states since if it acts only accordingly to a strategy which maximizes its rewards it cannot discover or learn another possible better path. It is then essential to take random actions to do so (and we know that we choose a random action with a probability $\\epsilon$ ). This $\\epsilon$ helps to capture the exploration/exploitation dilemma.\n"
   ]
  },
  {
   "cell_type": "markdown",
   "metadata": {
    "colab_type": "text",
    "id": "9zFy26d3b71u"
   },
   "source": [
    "***\n",
    "### The Game"
   ]
  },
  {
   "cell_type": "markdown",
   "metadata": {
    "colab_type": "text",
    "id": "V_QsO92tb71v"
   },
   "source": [
    "The ```Agent``` and the ```Environment``` work in an interlaced way as in the following (take some time to understand this code as it is the core of the project)\n",
    "\n",
    "```python\n",
    "\n",
    "epoch = 300\n",
    "env = Environment()\n",
    "agent = Agent()\n",
    "\n",
    "\n",
    "# Number of won games\n",
    "score = 0\n",
    "loss = 0\n",
    "\n",
    "\n",
    "for e in range(epoch):\n",
    "    # At each epoch, we restart to a fresh game and get the initial state\n",
    "    state = env.reset()\n",
    "    # This assumes that the games will end\n",
    "    game_over = False\n",
    "\n",
    "    win = 0\n",
    "    lose = 0\n",
    "    \n",
    "    while not game_over:\n",
    "        # The agent performs an action\n",
    "        action = agent.act(state)\n",
    "\n",
    "        # Apply an action to the environment, get the next state, the reward\n",
    "        # and if the games end\n",
    "        prev_state = state\n",
    "        state, reward, game_over = env.act(action)\n",
    "\n",
    "        # Update the counters\n",
    "        if reward > 0:\n",
    "            win = win + reward\n",
    "        if reward < 0:\n",
    "            lose = lose -reward\n",
    "\n",
    "        # Apply the reinforcement strategy\n",
    "        loss = agent.reinforce(prev_state, state,  action, reward, game_over)\n",
    "\n",
    "    # Save as a mp4\n",
    "    if e % 10 == 0:\n",
    "        env.draw(e)\n",
    "\n",
    "    # Update stats\n",
    "    score += win-lose\n",
    "\n",
    "    print(\"Epoch {:03d}/{:03d} | Loss {:.4f} | Win/lose count {}/{} ({})\"\n",
    "          .format(e, epoch, loss, win, lose, win-lose))\n",
    "    agent.save()\n",
    "```"
   ]
  },
  {
   "cell_type": "markdown",
   "metadata": {
    "colab_type": "text",
    "id": "V819YO8Qb71w"
   },
   "source": [
    "# The game, *eat cheese*"
   ]
  },
  {
   "cell_type": "markdown",
   "metadata": {
    "colab_type": "text",
    "id": "3s1sUXDAb71y"
   },
   "source": [
    "A rat runs on an island and tries to eat as much as possible. The island is subdivided into $N\\times N$ cells, in which there are cheese (+0.5) and poisonous cells (-1). The rat has a visibility of 2 cells (thus it can see $5^2$ cells). The rat is given a time $T$ to accumulate as much food as possible. It can perform 4 actions: going up, down, left, right. \n",
    "\n",
    "The goal is to code an agent to solve this task that will learn by trial and error. We propose the following environment:"
   ]
  },
  {
   "cell_type": "code",
   "execution_count": 0,
   "metadata": {
    "colab": {},
    "colab_type": "code",
    "id": "YPMoufZ_b71z"
   },
   "outputs": [],
   "source": [
    "class Environment(object):\n",
    "    def __init__(self, grid_size=10, max_time=500, temperature=0.1):\n",
    "        grid_size = grid_size+4\n",
    "        self.grid_size = grid_size\n",
    "        self.max_time = max_time\n",
    "        self.temperature = temperature\n",
    "\n",
    "        #board on which one plays\n",
    "        self.board = np.zeros((grid_size,grid_size))\n",
    "        self.position = np.zeros((grid_size,grid_size))\n",
    "\n",
    "        # coordinate of the cat\n",
    "        self.x = 0\n",
    "        self.y = 1\n",
    "\n",
    "        # self time\n",
    "        self.t = 0\n",
    "\n",
    "        self.scale=16\n",
    "\n",
    "        self.to_draw = np.zeros((max_time+2, grid_size*self.scale, grid_size*self.scale, 3))\n",
    "\n",
    "\n",
    "    def draw(self,e):\n",
    "        skvideo.io.vwrite(str(e) + '.mp4', self.to_draw)\n",
    "\n",
    "    def get_frame(self,t):\n",
    "        b = np.zeros((self.grid_size,self.grid_size,3))+128\n",
    "        b[self.board>0,0] = 256\n",
    "        b[self.board < 0, 2] = 256\n",
    "        b[self.x,self.y,:]=256\n",
    "        b[-2:,:,:]=0\n",
    "        b[:,-2:,:]=0\n",
    "        b[:2,:,:]=0\n",
    "        b[:,:2,:]=0\n",
    "        \n",
    "        b =  cv2.resize(b, None, fx=self.scale, fy=self.scale, interpolation=cv2.INTER_NEAREST)\n",
    "\n",
    "        self.to_draw[t,:,:,:]=b\n",
    "\n",
    "\n",
    "    def act(self, action):\n",
    "        \"\"\"This function returns the new state, reward and decides if the\n",
    "        game ends.\"\"\"\n",
    "\n",
    "        self.get_frame(int(self.t))\n",
    "\n",
    "        self.position = np.zeros((self.grid_size, self.grid_size))\n",
    "\n",
    "        self.position[0:2,:]= -1\n",
    "        self.position[:,0:2] = -1\n",
    "        self.position[-2:, :] = -1\n",
    "        self.position[-2:, :] = -1\n",
    "\n",
    "        self.position[self.x, self.y] = 1\n",
    "        if action == 0:\n",
    "            if self.x == self.grid_size-3:\n",
    "                self.x = self.x-1\n",
    "            else:\n",
    "                self.x = self.x + 1\n",
    "        elif action == 1:\n",
    "            if self.x == 2:\n",
    "                self.x = self.x+1\n",
    "            else:\n",
    "                self.x = self.x-1\n",
    "        elif action == 2:\n",
    "            if self.y == self.grid_size - 3:\n",
    "                self.y = self.y - 1\n",
    "            else:\n",
    "                self.y = self.y + 1\n",
    "        elif action == 3:\n",
    "            if self.y == 2:\n",
    "                self.y = self.y + 1\n",
    "            else:\n",
    "                self.y = self.y - 1\n",
    "        else:\n",
    "            RuntimeError('Error: action not recognized')\n",
    "\n",
    "        self.t = self.t + 1\n",
    "        reward = self.board[self.x, self.y]\n",
    "        self.board[self.x, self.y] = 0\n",
    "        game_over = self.t > self.max_time\n",
    "        state = np.concatenate((self.board.reshape(self.grid_size, self.grid_size,1),\n",
    "                        self.position.reshape(self.grid_size, self.grid_size,1)),axis=2)\n",
    "        state = state[self.x-2:self.x+3,self.y-2:self.y+3,:]\n",
    "\n",
    "        return state, reward, game_over\n",
    "\n",
    "    def reset(self):\n",
    "        \"\"\"This function resets the game and returns the initial state\"\"\"\n",
    "\n",
    "        self.x = np.random.randint(3, self.grid_size-3, size=1)[0]\n",
    "        self.y = np.random.randint(3, self.grid_size-3, size=1)[0]\n",
    "\n",
    "\n",
    "        bonus = 0.5*np.random.binomial(1,self.temperature,size=self.grid_size**2)\n",
    "        bonus = bonus.reshape(self.grid_size,self.grid_size)\n",
    "\n",
    "        malus = -1.0*np.random.binomial(1,self.temperature,size=self.grid_size**2)\n",
    "        malus = malus.reshape(self.grid_size, self.grid_size)\n",
    "\n",
    "        self.to_draw = np.zeros((self.max_time+2, self.grid_size*self.scale, self.grid_size*self.scale, 3))\n",
    "\n",
    "\n",
    "        malus[bonus>0]=0\n",
    "\n",
    "        self.board = bonus + malus\n",
    "\n",
    "        self.position = np.zeros((self.grid_size, self.grid_size))\n",
    "        self.position[0:2,:]= -1\n",
    "        self.position[:,0:2] = -1\n",
    "        self.position[-2:, :] = -1\n",
    "        self.position[-2:, :] = -1\n",
    "        self.board[self.x,self.y] = 0\n",
    "        self.t = 0\n",
    "\n",
    "        state = np.concatenate((\n",
    "                               self.board.reshape(self.grid_size, self.grid_size,1),\n",
    "                        self.position.reshape(self.grid_size, self.grid_size,1)),axis=2)\n",
    "\n",
    "        state = state[self.x - 2:self.x + 3, self.y - 2:self.y + 3, :]\n",
    "        return state"
   ]
  },
  {
   "cell_type": "markdown",
   "metadata": {
    "colab_type": "text",
    "id": "-k9OPrV1b711"
   },
   "source": [
    "The following elements are important because they correspond to the hyper parameters for this project:"
   ]
  },
  {
   "cell_type": "code",
   "execution_count": 0,
   "metadata": {
    "colab": {},
    "colab_type": "code",
    "id": "XpzeEmXJb712"
   },
   "outputs": [],
   "source": [
    "# parameters\n",
    "size = 13\n",
    "T=200\n",
    "temperature=0.3\n",
    "epochs_train=100 # set small when debugging\n",
    "epochs_test=10 # set small when debugging\n",
    "\n",
    "# display videos\n",
    "def display_videos(name):\n",
    "    video = io.open(name, 'r+b').read()\n",
    "    encoded = base64.b64encode(video)\n",
    "    return '''<video alt=\"test\" controls>\n",
    "                <source src=\"data:video/mp4;base64,{0}\" type=\"video/mp4\" />\n",
    "             </video>'''.format(encoded.decode('ascii'))"
   ]
  },
  {
   "cell_type": "markdown",
   "metadata": {
    "colab_type": "text",
    "id": "72BVEsvSb714"
   },
   "source": [
    "__Question 2__ Explain the use of the arrays ```position``` and ```board```."
   ]
  },
  {
   "cell_type": "markdown",
   "metadata": {
    "colab_type": "text",
    "id": "bQGSAjz5b715"
   },
   "source": [
    "#### Position : \n",
    "Enables to know the position of the rat . To get more in the details, position is a matrix with size (grid+4)*(grid4) with values of 0 except where the rat is located. The values are -1 on the limits of the maps (forbidden positions for the rat).\n",
    "#### Board:\n",
    "Enables to know the configuration of the boards that is to say where the bonus and malus are.  It represents then the repartition of the cheese and the poison on the map. After cheese or poison is collected, the value on the corresponding cell is set to 0.\n",
    "\n",
    "\n"
   ]
  },
  {
   "cell_type": "markdown",
   "metadata": {
    "colab_type": "text",
    "id": "PI8q3PoLb716"
   },
   "source": [
    "## Random Agent"
   ]
  },
  {
   "cell_type": "markdown",
   "metadata": {
    "colab_type": "text",
    "id": "nBYptumab717"
   },
   "source": [
    "***\n",
    "__Question 3__ Implement a random Agent (only ```learned_act``` needs to be implemented):"
   ]
  },
  {
   "cell_type": "code",
   "execution_count": 0,
   "metadata": {
    "colab": {},
    "colab_type": "code",
    "id": "ukPbYs9Mb718"
   },
   "outputs": [],
   "source": [
    "class RandomAgent(Agent):\n",
    "    def __init__(self):\n",
    "        super(RandomAgent, self).__init__()\n",
    "        pass\n",
    "\n",
    "    def learned_act(self, s):\n",
    "        return np.random.randint(0,self.n_action,1)\n"
   ]
  },
  {
   "cell_type": "code",
   "execution_count": 0,
   "metadata": {
    "colab": {},
    "colab_type": "code",
    "id": "7nPBx7Fub71-"
   },
   "outputs": [],
   "source": [
    "def test(agent,env,epochs,prefix=''):\n",
    "    # Number of won games\n",
    "    score = 0\n",
    "        \n",
    "    for e in range(epochs):\n",
    "        \n",
    "        \n",
    "        state = env.reset()\n",
    "       \n",
    "        game_over = False\n",
    "\n",
    "        win = 0\n",
    "        lose = 0\n",
    "\n",
    "        while not game_over:\n",
    "            # The agent makes an action\n",
    "            action = agent.act(state)\n",
    "            \n",
    "            # We get a reward and get to the next step if the game is not over\n",
    "            prev_state = state\n",
    "            state, reward, game_over = env.act(action)\n",
    "            \n",
    "            #Updating rewards\n",
    "            if reward > 0:\n",
    "                win = win + reward\n",
    "            if reward < 0:\n",
    "                lose = lose -reward\n",
    "\n",
    "                \n",
    "        # Save as a mp4\n",
    "        env.draw(prefix+str(e))\n",
    "\n",
    "        # Update stats\n",
    "        score = score + win-lose\n",
    "\n",
    "        print(\"Win/lose count {}/{}. Average score ({})\"\n",
    "              .format(win, lose, score/(1+e)))\n",
    "    print('Final score: '+str(score/epochs))\n",
    "        \n",
    "    \n",
    "\n"
   ]
  },
  {
   "cell_type": "code",
   "execution_count": 56,
   "metadata": {
    "colab": {
     "base_uri": "https://localhost:8080/",
     "height": 488
    },
    "colab_type": "code",
    "id": "WPh3zXVMb72D",
    "outputId": "2d766cba-d2ed-49bf-ad83-d5f35c41ba6b"
   },
   "outputs": [
    {
     "name": "stdout",
     "output_type": "stream",
     "text": [
      "Win/lose count 14.5/15.0. Average score (-0.5)\n",
      "Win/lose count 12.0/11.0. Average score (0.25)\n",
      "Win/lose count 11.0/17.0. Average score (-1.8333333333333333)\n",
      "Win/lose count 12.0/10.0. Average score (-0.875)\n",
      "Win/lose count 11.5/13.0. Average score (-1.0)\n",
      "Win/lose count 10.0/19.0. Average score (-2.3333333333333335)\n",
      "Win/lose count 7.5/11.0. Average score (-2.5)\n",
      "Win/lose count 14.5/19.0. Average score (-2.75)\n",
      "Win/lose count 9.0/12.0. Average score (-2.7777777777777777)\n",
      "Win/lose count 9.0/11.0. Average score (-2.7)\n",
      "Final score: -2.7\n"
     ]
    },
    {
     "data": {
      "text/html": [
       "<video alt=\"test\" controls>\n",
       "                <source src=\"data:video/mp4;base64,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\" type=\"video/mp4\" />\n",
       "             </video>"
      ],
      "text/plain": [
       "<IPython.core.display.HTML object>"
      ]
     },
     "execution_count": 56,
     "metadata": {
      "tags": []
     },
     "output_type": "execute_result"
    }
   ],
   "source": [
    "# Initialize the game\n",
    "\n",
    "env = Environment(grid_size=size, max_time=T,temperature=temperature)\n",
    "\n",
    "# Initialize the agent!\n",
    "agent = RandomAgent()\n",
    "\n",
    "test(agent,env,epochs_test,prefix='random')\n",
    "HTML(display_videos('random0.mp4'))"
   ]
  },
  {
   "cell_type": "markdown",
   "metadata": {
    "colab_type": "text",
    "id": "t9fAErTXb72H"
   },
   "source": [
    "***\n",
    "## DQN"
   ]
  },
  {
   "cell_type": "markdown",
   "metadata": {
    "colab_type": "text",
    "id": "0tF89gJib72I"
   },
   "source": [
    "Let us assume here that $T=\\infty$.\n",
    "\n",
    "***\n",
    "__Question 5__ Let $\\pi$ be a policy, show that:\n",
    "\n",
    "\\begin{equation*}\n",
    "Q^{\\pi}(s,a)=E_{(s',a')\\sim p(.|s,a)}[r(s,a)+\\gamma Q^{\\pi}(s',a')]\n",
    "\\end{equation*}\n",
    "\n",
    "Then, show that for the optimal policy $\\pi^*$ (we assume its existence), the following holds: \n",
    "\n",
    "\\begin{equation*}\n",
    "Q^{*}(s,a)=E_{s'\\sim \\pi^*(.|s,a)}[r(s,a)+\\gamma\\max_{a'}Q^{*}(s',a')].\n",
    "\\end{equation*}\n",
    "Finally, deduce that a plausible objective is:\n",
    "\n",
    "\\begin{equation*}\n",
    "\\mathcal{L}(\\theta)=E_{s' \\sim \\pi^*(.|s,a)}\\Vert r+\\gamma\\max\\max_{a'}Q(s',a',\\theta)-Q(s,a,\\theta)\\Vert^{2}.\n",
    "\\end{equation*}\n",
    "\n",
    "\n"
   ]
  },
  {
   "cell_type": "markdown",
   "metadata": {
    "colab_type": "text",
    "id": "1SHbwGkmb72J"
   },
   "source": []
  },
  {
   "cell_type": "markdown",
   "metadata": {
    "colab_type": "text",
    "id": "PnsviRCrb72K"
   },
   "source": [
    "***\n",
    "The DQN-learning algorithm relies on these derivations to train the parameters $\\theta$ of a Deep Neural Network:\n",
    "\n",
    "1. At the state $s_t$, select the action $a_t$ with best reward using $Q_t$ and store the results;\n",
    "\n",
    "2. Obtain the new state $s_{t+1}$ from the environment $p$;\n",
    "\n",
    "3. Store $(s_t,a_t,s_{t+1})$;\n",
    "\n",
    "4. Obtain $Q_{t+1}$ by minimizing  $\\mathcal{L}$ from a recovered batch from the previously stored results.\n",
    "\n",
    "***\n",
    "__Question 6__ Implement the class ```Memory``` that stores moves (in a replay buffer) via ```remember``` and provides a ```random_access``` to these. Specify a maximum memory size to avoid side effects. You can for example use a ```list()``` and set by default ```max_memory=100```."
   ]
  },
  {
   "cell_type": "code",
   "execution_count": 0,
   "metadata": {
    "colab": {},
    "colab_type": "code",
    "id": "AJD0gnDMb72M"
   },
   "outputs": [],
   "source": [
    "class Memory(object):\n",
    "    def __init__(self, max_memory=100):\n",
    "        self.max_memory = max_memory\n",
    "        self.memory = list()\n",
    "\n",
    "    def remember(self, m):\n",
    "        self.memory.append(m)\n",
    "        while len(self.memory) > self.max_memory:\n",
    "            self.memory.pop(0)\n",
    "\n",
    "    def random_access(self):\n",
    "        return self.memory[np.random.randint(0, len(self.memory), size=1)[0]]"
   ]
  },
  {
   "cell_type": "markdown",
   "metadata": {
    "colab_type": "text",
    "id": "4bUo0wHKb72P"
   },
   "source": [
    "***\n",
    "The pipeline we will use for training is given below:"
   ]
  },
  {
   "cell_type": "code",
   "execution_count": 0,
   "metadata": {
    "colab": {},
    "colab_type": "code",
    "id": "M5n1TR5Lb72Q"
   },
   "outputs": [],
   "source": [
    "def train(agent,env,epoch,prefix=''):\n",
    "    # Number of won games\n",
    "    score = 0\n",
    "    loss = 0\n",
    "\n",
    "    for e in range(epoch):\n",
    "        # At each epoch, we restart to a fresh game and get the initial state\n",
    "        state = env.reset()\n",
    "        # This assumes that the games will terminate\n",
    "        game_over = False\n",
    "\n",
    "        win = 0\n",
    "        lose = 0\n",
    "\n",
    "        while not game_over:\n",
    "            # The agent performs an action\n",
    "            action = agent.act(state)\n",
    "\n",
    "            # Apply an action to the environment, get the next state, the reward\n",
    "            # and if the games end\n",
    "            prev_state = state\n",
    "            state, reward, game_over = env.act(action)\n",
    "\n",
    "            # Update the counters\n",
    "            if reward > 0:\n",
    "                win = win + reward\n",
    "            if reward < 0:\n",
    "                lose = lose -reward\n",
    "\n",
    "            # Apply the reinforcement strategy\n",
    "            loss = agent.reinforce(prev_state, state,  action, reward, game_over)\n",
    "\n",
    "        # Save as a mp4\n",
    "        if e % 10 == 0:\n",
    "            env.draw(prefix+str(e))\n",
    "\n",
    "        # Update stats\n",
    "        score =score + win-lose\n",
    "\n",
    "        print(\"Epoch {:03d}/{:03d} | Loss {:.4f} | Win/lose count {}/{} ({})\"\n",
    "              .format(e, epoch, loss, win, lose, win-lose))\n",
    "        agent.save(name_weights=prefix+'model.h5',name_model=prefix+'model.json')"
   ]
  },
  {
   "cell_type": "markdown",
   "metadata": {
    "colab_type": "text",
    "id": "EG1fo7qDb72T"
   },
   "source": [
    "***\n",
    "__Question 7__ Implement the DQN training algorithm using a cascade of fully connected layers. You can use different learning rate, batch size or memory size parameters. In particular, the loss might oscillate while the player will start to win the games. You have to find a good criterium."
   ]
  },
  {
   "cell_type": "code",
   "execution_count": 0,
   "metadata": {
    "colab": {},
    "colab_type": "code",
    "id": "DFCmWTRGb72U"
   },
   "outputs": [],
   "source": [
    "class DQN(Agent):\n",
    "    def __init__(self, grid_size,  epsilon = 0.1, memory_size=100, batch_size = 16,n_state=2):\n",
    "        super(DQN, self).__init__(epsilon = epsilon)\n",
    "\n",
    "        # Discount for Q learning\n",
    "        self.discount = 0.99\n",
    "        \n",
    "        self.grid_size = grid_size\n",
    "        \n",
    "        # number of state\n",
    "        self.n_state = n_state\n",
    "\n",
    "        # Memory\n",
    "        self.memory = Memory(memory_size)\n",
    "        \n",
    "        # Batch size when learning\n",
    "        self.batch_size = batch_size\n",
    "\n",
    "    def learned_act(self, s):\n",
    "        return np.argmax(self.model.predict(np.expand_dims(s, axis = 0)))\n",
    "\n",
    "    def reinforce(self, s_, n_s_, a_, r_, game_over_):\n",
    "\n",
    "        self.memory.remember([s_, n_s_, a_, r_, game_over_])\n",
    "        \n",
    "        input_states = np.zeros((self.batch_size, 5,5,self.n_state))\n",
    "        target_q = np.zeros((self.batch_size, 4))\n",
    "        \n",
    "        for i in range(self.batch_size):\n",
    "            [s, ns, a, r, game_over] = self.memory.random_access()\n",
    "            input_states[i] = s\n",
    "            target_q[i] = self.model.predict(s[np.newaxis])\n",
    "            if game_over_:\n",
    "                target_q[i, a] = r\n",
    "            else:\n",
    "                target_q[i, a] = r + self.discount * np.max(self.model.predict(ns[np.newaxis]))\n",
    "        ######## FILL IN\n",
    "        # HINT: Clip the target to avoid exploiding gradients.. -- clipping is a bit tighter\n",
    "        target_q = np.clip(target_q, -3, 3)\n",
    "\n",
    "        l = self.model.train_on_batch(input_states, target_q)\n",
    "\n",
    "\n",
    "        return l\n",
    "\n",
    "    def save(self,name_weights='model.h5',name_model='model.json'):\n",
    "        self.model.save_weights(name_weights, overwrite=True)\n",
    "        with open(name_model, \"w\") as outfile:\n",
    "            json.dump(self.model.to_json(), outfile)\n",
    "            \n",
    "    def load(self,name_weights='model.h5',name_model='model.json'):\n",
    "        with open(name_model, \"r\") as jfile:\n",
    "            model = model_from_json(json.load(jfile))\n",
    "        model.load_weights(name_weights)\n",
    "        model.compile(\"sgd\", \"mse\")\n",
    "        self.model = model\n",
    "\n",
    "            \n",
    "class DQN_FC(DQN):\n",
    "    def __init__(self, *args, layers = 2, lr=0.1,**kwargs):\n",
    "        super(DQN_FC, self).__init__( *args,**kwargs)\n",
    "        \n",
    "        # NN Model\n",
    "        \n",
    "        model = Sequential()\n",
    "        model.add(Reshape((5*5*self.n_state,), input_shape=(5,5,self.n_state)))#reshape because the input is a tensor\n",
    "        model.add(Dense(64, activation='relu'))\n",
    "        model.add(Dense(128, activation='relu'))\n",
    "        model.add(Dense(4))\n",
    "        \n",
    "        model.compile(sgd(lr=lr, decay=1e-4, momentum=0.1), \"mse\")\n",
    "        self.model = model"
   ]
  },
  {
   "cell_type": "code",
   "execution_count": 61,
   "metadata": {
    "colab": {
     "base_uri": "https://localhost:8080/",
     "height": 2071
    },
    "colab_type": "code",
    "id": "XA2oHIsdb72X",
    "outputId": "f70ac86d-4038-4acd-ead4-9082b0bc5cb2"
   },
   "outputs": [
    {
     "name": "stdout",
     "output_type": "stream",
     "text": [
      "Epoch 000/100 | Loss 0.2604 | Win/lose count 4.0/5.0 (-1.0)\n",
      "Epoch 001/100 | Loss 1.7690 | Win/lose count 3.0/1.0 (2.0)\n",
      "Epoch 002/100 | Loss 1.8574 | Win/lose count 1.5/2.0 (-0.5)\n",
      "Epoch 003/100 | Loss 1.9426 | Win/lose count 3.5/1.0 (2.5)\n",
      "Epoch 004/100 | Loss 1.8374 | Win/lose count 3.0/1.0 (2.0)\n",
      "Epoch 005/100 | Loss 1.8432 | Win/lose count 6.0/9.0 (-3.0)\n",
      "Epoch 006/100 | Loss 1.9967 | Win/lose count 5.0/2.0 (3.0)\n",
      "Epoch 007/100 | Loss 1.9377 | Win/lose count 2.5/5.0 (-2.5)\n",
      "Epoch 008/100 | Loss 1.8952 | Win/lose count 2.5/3.0 (-0.5)\n",
      "Epoch 009/100 | Loss 1.9066 | Win/lose count 7.0/7.0 (0.0)\n",
      "Epoch 010/100 | Loss 1.9717 | Win/lose count 2.5/3.0 (-0.5)\n",
      "Epoch 011/100 | Loss 2.0675 | Win/lose count 8.5/1.0 (7.5)\n",
      "Epoch 012/100 | Loss 1.9546 | Win/lose count 3.0/4.0 (-1.0)\n",
      "Epoch 013/100 | Loss 1.9150 | Win/lose count 7.5/4.0 (3.5)\n",
      "Epoch 014/100 | Loss 1.8626 | Win/lose count 2.0/4.0 (-2.0)\n",
      "Epoch 015/100 | Loss 1.8688 | Win/lose count 4.5/4.0 (0.5)\n",
      "Epoch 016/100 | Loss 1.8548 | Win/lose count 6.0/1.0 (5.0)\n",
      "Epoch 017/100 | Loss 1.8998 | Win/lose count 7.5/5.0 (2.5)\n",
      "Epoch 018/100 | Loss 1.7799 | Win/lose count 5.5/2.0 (3.5)\n",
      "Epoch 019/100 | Loss 1.7735 | Win/lose count 1.5/2.0 (-0.5)\n",
      "Epoch 020/100 | Loss 1.8482 | Win/lose count 2.5/0 (2.5)\n",
      "Epoch 021/100 | Loss 1.8297 | Win/lose count 3.0/5.0 (-2.0)\n",
      "Epoch 022/100 | Loss 1.7819 | Win/lose count 4.5/4.0 (0.5)\n",
      "Epoch 023/100 | Loss 1.7482 | Win/lose count 3.0/1.0 (2.0)\n",
      "Epoch 024/100 | Loss 1.7432 | Win/lose count 7.5/3.0 (4.5)\n",
      "Epoch 025/100 | Loss 1.6317 | Win/lose count 3.0/1.0 (2.0)\n",
      "Epoch 026/100 | Loss 1.8644 | Win/lose count 7.0/4.0 (3.0)\n",
      "Epoch 027/100 | Loss 1.7214 | Win/lose count 6.0/3.0 (3.0)\n",
      "Epoch 028/100 | Loss 1.7266 | Win/lose count 4.5/3.0 (1.5)\n",
      "Epoch 029/100 | Loss 1.6681 | Win/lose count 6.5/1.0 (5.5)\n",
      "Epoch 030/100 | Loss 1.5826 | Win/lose count 10.0/2.0 (8.0)\n",
      "Epoch 031/100 | Loss 1.8381 | Win/lose count 9.0/2.0 (7.0)\n",
      "Epoch 032/100 | Loss 1.7514 | Win/lose count 6.5/3.0 (3.5)\n",
      "Epoch 033/100 | Loss 1.7132 | Win/lose count 2.0/4.0 (-2.0)\n",
      "Epoch 034/100 | Loss 1.6674 | Win/lose count 8.0/2.0 (6.0)\n",
      "Epoch 035/100 | Loss 1.6997 | Win/lose count 6.0/7.0 (-1.0)\n",
      "Epoch 036/100 | Loss 1.6282 | Win/lose count 6.5/1.0 (5.5)\n",
      "Epoch 037/100 | Loss 1.6269 | Win/lose count 11.0/2.0 (9.0)\n",
      "Epoch 038/100 | Loss 1.6372 | Win/lose count 9.5/6.0 (3.5)\n",
      "Epoch 039/100 | Loss 1.7362 | Win/lose count 10.0/3.0 (7.0)\n",
      "Epoch 040/100 | Loss 1.6041 | Win/lose count 3.5/2.0 (1.5)\n",
      "Epoch 041/100 | Loss 1.6678 | Win/lose count 8.5/1.0 (7.5)\n",
      "Epoch 042/100 | Loss 1.6905 | Win/lose count 7.0/3.0 (4.0)\n",
      "Epoch 043/100 | Loss 1.6503 | Win/lose count 6.0/6.0 (0.0)\n",
      "Epoch 044/100 | Loss 1.6636 | Win/lose count 3.0/1.0 (2.0)\n",
      "Epoch 045/100 | Loss 1.7660 | Win/lose count 12.5/6.0 (6.5)\n",
      "Epoch 046/100 | Loss 1.7149 | Win/lose count 11.0/2.0 (9.0)\n",
      "Epoch 047/100 | Loss 1.7177 | Win/lose count 5.0/0 (5.0)\n",
      "Epoch 048/100 | Loss 1.7316 | Win/lose count 12.0/5.0 (7.0)\n",
      "Epoch 049/100 | Loss 1.6536 | Win/lose count 6.5/4.0 (2.5)\n",
      "Epoch 050/100 | Loss 1.6890 | Win/lose count 7.5/4.0 (3.5)\n",
      "Epoch 051/100 | Loss 1.6952 | Win/lose count 3.0/1.0 (2.0)\n",
      "Epoch 052/100 | Loss 1.6739 | Win/lose count 6.5/2.0 (4.5)\n",
      "Epoch 053/100 | Loss 1.6608 | Win/lose count 16.0/5.0 (11.0)\n",
      "Epoch 054/100 | Loss 1.8109 | Win/lose count 14.0/3.0 (11.0)\n",
      "Epoch 055/100 | Loss 1.7763 | Win/lose count 11.5/2.0 (9.5)\n",
      "Epoch 056/100 | Loss 1.8377 | Win/lose count 11.0/2.0 (9.0)\n",
      "Epoch 057/100 | Loss 1.7670 | Win/lose count 9.5/2.0 (7.5)\n",
      "Epoch 058/100 | Loss 1.7890 | Win/lose count 8.0/1.0 (7.0)\n",
      "Epoch 059/100 | Loss 1.7639 | Win/lose count 10.0/0 (10.0)\n",
      "Epoch 060/100 | Loss 1.7310 | Win/lose count 13.0/1.0 (12.0)\n",
      "Epoch 061/100 | Loss 1.8351 | Win/lose count 19.5/1.0 (18.5)\n",
      "Epoch 062/100 | Loss 1.7402 | Win/lose count 12.0/1.0 (11.0)\n",
      "Epoch 063/100 | Loss 1.7509 | Win/lose count 14.0/1.0 (13.0)\n",
      "Epoch 064/100 | Loss 1.7244 | Win/lose count 7.0/2.0 (5.0)\n",
      "Epoch 065/100 | Loss 1.7364 | Win/lose count 18.0/1.0 (17.0)\n",
      "Epoch 066/100 | Loss 1.8304 | Win/lose count 15.0/4.0 (11.0)\n",
      "Epoch 067/100 | Loss 1.7913 | Win/lose count 11.0/1.0 (10.0)\n",
      "Epoch 068/100 | Loss 1.7761 | Win/lose count 11.0/2.0 (9.0)\n",
      "Epoch 069/100 | Loss 1.8220 | Win/lose count 5.0/2.0 (3.0)\n",
      "Epoch 070/100 | Loss 1.7930 | Win/lose count 16.5/2.0 (14.5)\n",
      "Epoch 071/100 | Loss 1.7661 | Win/lose count 11.0/6.0 (5.0)\n",
      "Epoch 072/100 | Loss 1.7771 | Win/lose count 3.5/1.0 (2.5)\n",
      "Epoch 073/100 | Loss 1.7582 | Win/lose count 10.0/5.0 (5.0)\n",
      "Epoch 074/100 | Loss 1.7128 | Win/lose count 12.5/1.0 (11.5)\n",
      "Epoch 075/100 | Loss 1.7336 | Win/lose count 7.0/2.0 (5.0)\n",
      "Epoch 076/100 | Loss 1.8117 | Win/lose count 19.0/1.0 (18.0)\n",
      "Epoch 077/100 | Loss 1.7558 | Win/lose count 11.0/4.0 (7.0)\n",
      "Epoch 078/100 | Loss 1.7645 | Win/lose count 7.5/3.0 (4.5)\n",
      "Epoch 079/100 | Loss 1.7075 | Win/lose count 7.5/0 (7.5)\n",
      "Epoch 080/100 | Loss 1.7333 | Win/lose count 16.5/0 (16.5)\n",
      "Epoch 081/100 | Loss 1.7454 | Win/lose count 11.5/3.0 (8.5)\n",
      "Epoch 082/100 | Loss 1.7559 | Win/lose count 18.5/4.0 (14.5)\n",
      "Epoch 083/100 | Loss 1.7800 | Win/lose count 15.5/1.0 (14.5)\n",
      "Epoch 084/100 | Loss 1.7521 | Win/lose count 17.0/1.0 (16.0)\n",
      "Epoch 085/100 | Loss 1.7456 | Win/lose count 19.5/4.0 (15.5)\n",
      "Epoch 086/100 | Loss 1.7351 | Win/lose count 12.5/2.0 (10.5)\n",
      "Epoch 087/100 | Loss 1.7328 | Win/lose count 8.0/1.0 (7.0)\n",
      "Epoch 088/100 | Loss 1.7568 | Win/lose count 3.5/0 (3.5)\n",
      "Epoch 089/100 | Loss 1.7668 | Win/lose count 8.5/1.0 (7.5)\n",
      "Epoch 090/100 | Loss 1.6642 | Win/lose count 14.0/1.0 (13.0)\n",
      "Epoch 091/100 | Loss 1.7762 | Win/lose count 6.0/2.0 (4.0)\n",
      "Epoch 092/100 | Loss 1.7250 | Win/lose count 9.0/3.0 (6.0)\n",
      "Epoch 093/100 | Loss 1.6473 | Win/lose count 9.5/5.0 (4.5)\n",
      "Epoch 094/100 | Loss 1.6361 | Win/lose count 17.0/2.0 (15.0)\n",
      "Epoch 095/100 | Loss 1.7284 | Win/lose count 9.0/2.0 (7.0)\n",
      "Epoch 096/100 | Loss 1.6060 | Win/lose count 15.0/2.0 (13.0)\n",
      "Epoch 097/100 | Loss 1.5985 | Win/lose count 6.5/0 (6.5)\n",
      "Epoch 098/100 | Loss 1.5999 | Win/lose count 12.5/3.0 (9.5)\n",
      "Epoch 099/100 | Loss 1.6368 | Win/lose count 11.0/2.0 (9.0)\n"
     ]
    },
    {
     "data": {
      "text/html": [
       "<video alt=\"test\" controls>\n",
       "                <source src=\"data:video/mp4;base64,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\" type=\"video/mp4\" />\n",
       "             </video>"
      ],
      "text/plain": [
       "<IPython.core.display.HTML object>"
      ]
     },
     "execution_count": 61,
     "metadata": {
      "tags": []
     },
     "output_type": "execute_result"
    }
   ],
   "source": [
    "env = Environment(grid_size=size, max_time=T, temperature=0.3)\n",
    "agent = DQN_FC(size, lr=.1, epsilon = 0.1, memory_size=2000, batch_size = 32)\n",
    "train(agent, env, epochs_train, prefix='fc_train')\n",
    "HTML(display_videos('fc_train10.mp4'))"
   ]
  },
  {
   "cell_type": "markdown",
   "metadata": {
    "colab_type": "text",
    "id": "qpYhI56ab72a"
   },
   "source": [
    "***\n",
    "***\n",
    "__Question 8__ Implement the DQN training algorithm using a CNN (for example, 2 convolutional layers and one final fully connected layer)."
   ]
  },
  {
   "cell_type": "code",
   "execution_count": 0,
   "metadata": {
    "colab": {},
    "colab_type": "code",
    "id": "l0VH4MZ8b72b"
   },
   "outputs": [],
   "source": [
    "\n",
    "class DQN_CNN(DQN):\n",
    "    def __init__(self, *args,lr=0.1,**kwargs):\n",
    "        super(DQN_CNN, self).__init__(*args,**kwargs)\n",
    "        \n",
    "        model = Sequential()\n",
    "        model.add(Conv2D(32, (2, 2), input_shape=(5,5,self.n_state,), activation='relu'))\n",
    "        model.add(Dropout(rate=0.2))\n",
    "        model.add(Conv2D(64, (2, 2), activation='relu'))\n",
    "        model.add(Flatten())\n",
    "        model.add(Dense(4))\n",
    "        \n",
    "        model.compile(sgd(lr=lr, decay=1e-4, momentum=0.1), \"mse\")\n",
    "        self.model = model"
   ]
  },
  {
   "cell_type": "code",
   "execution_count": 63,
   "metadata": {
    "colab": {
     "base_uri": "https://localhost:8080/",
     "height": 2071
    },
    "colab_type": "code",
    "id": "OBCGNUZqb72e",
    "outputId": "6a7ae4d1-a0e8-497d-87e5-577f4bb1a4de"
   },
   "outputs": [
    {
     "name": "stdout",
     "output_type": "stream",
     "text": [
      "Epoch 000/100 | Loss 0.0133 | Win/lose count 3.0/2.0 (1.0)\n",
      "Epoch 001/100 | Loss 0.0294 | Win/lose count 3.5/5.0 (-1.5)\n",
      "Epoch 002/100 | Loss 0.0947 | Win/lose count 4.0/2.0 (2.0)\n",
      "Epoch 003/100 | Loss 0.1488 | Win/lose count 0.5/3.0 (-2.5)\n",
      "Epoch 004/100 | Loss 0.2370 | Win/lose count 6.5/6.0 (0.5)\n",
      "Epoch 005/100 | Loss 0.4092 | Win/lose count 5.0/2.0 (3.0)\n",
      "Epoch 006/100 | Loss 0.9325 | Win/lose count 8.5/5.0 (3.5)\n",
      "Epoch 007/100 | Loss 1.4327 | Win/lose count 7.0/5.0 (2.0)\n",
      "Epoch 008/100 | Loss 1.4800 | Win/lose count 8.5/2.0 (6.5)\n",
      "Epoch 009/100 | Loss 1.1914 | Win/lose count 1.0/3.0 (-2.0)\n",
      "Epoch 010/100 | Loss 1.6152 | Win/lose count 7.0/7.0 (0.0)\n",
      "Epoch 011/100 | Loss 1.5591 | Win/lose count 3.5/6.0 (-2.5)\n",
      "Epoch 012/100 | Loss 1.3822 | Win/lose count 10.0/0 (10.0)\n",
      "Epoch 013/100 | Loss 1.5172 | Win/lose count 2.0/2.0 (0.0)\n",
      "Epoch 014/100 | Loss 1.4160 | Win/lose count 5.5/6.0 (-0.5)\n",
      "Epoch 015/100 | Loss 1.4496 | Win/lose count 12.0/2.0 (10.0)\n",
      "Epoch 016/100 | Loss 1.5676 | Win/lose count 15.5/4.0 (11.5)\n",
      "Epoch 017/100 | Loss 1.5955 | Win/lose count 8.5/1.0 (7.5)\n",
      "Epoch 018/100 | Loss 1.7440 | Win/lose count 4.5/1.0 (3.5)\n",
      "Epoch 019/100 | Loss 1.7506 | Win/lose count 6.0/3.0 (3.0)\n",
      "Epoch 020/100 | Loss 1.7184 | Win/lose count 20.0/0 (20.0)\n",
      "Epoch 021/100 | Loss 1.8055 | Win/lose count 6.5/0 (6.5)\n",
      "Epoch 022/100 | Loss 1.7131 | Win/lose count 14.0/1.0 (13.0)\n",
      "Epoch 023/100 | Loss 1.7392 | Win/lose count 4.5/2.0 (2.5)\n",
      "Epoch 024/100 | Loss 1.8016 | Win/lose count 19.5/2.0 (17.5)\n",
      "Epoch 025/100 | Loss 1.7961 | Win/lose count 11.0/0 (11.0)\n",
      "Epoch 026/100 | Loss 1.7660 | Win/lose count 15.0/4.0 (11.0)\n",
      "Epoch 027/100 | Loss 1.7693 | Win/lose count 4.0/3.0 (1.0)\n",
      "Epoch 028/100 | Loss 1.6735 | Win/lose count 16.5/6.0 (10.5)\n",
      "Epoch 029/100 | Loss 1.7150 | Win/lose count 19.5/0 (19.5)\n",
      "Epoch 030/100 | Loss 1.7713 | Win/lose count 20.0/1.0 (19.0)\n",
      "Epoch 031/100 | Loss 1.6621 | Win/lose count 13.5/4.0 (9.5)\n",
      "Epoch 032/100 | Loss 1.7561 | Win/lose count 16.0/4.0 (12.0)\n",
      "Epoch 033/100 | Loss 1.8622 | Win/lose count 10.0/4.0 (6.0)\n",
      "Epoch 034/100 | Loss 1.6769 | Win/lose count 10.0/3.0 (7.0)\n",
      "Epoch 035/100 | Loss 1.6738 | Win/lose count 10.0/3.0 (7.0)\n",
      "Epoch 036/100 | Loss 1.6980 | Win/lose count 16.5/1.0 (15.5)\n",
      "Epoch 037/100 | Loss 1.7467 | Win/lose count 7.0/2.0 (5.0)\n",
      "Epoch 038/100 | Loss 1.6613 | Win/lose count 16.0/2.0 (14.0)\n",
      "Epoch 039/100 | Loss 1.6934 | Win/lose count 23.5/6.0 (17.5)\n",
      "Epoch 040/100 | Loss 1.7302 | Win/lose count 8.0/2.0 (6.0)\n",
      "Epoch 041/100 | Loss 1.6543 | Win/lose count 22.5/0 (22.5)\n",
      "Epoch 042/100 | Loss 1.6758 | Win/lose count 19.5/2.0 (17.5)\n",
      "Epoch 043/100 | Loss 1.6334 | Win/lose count 14.0/2.0 (12.0)\n",
      "Epoch 044/100 | Loss 1.6048 | Win/lose count 15.0/4.0 (11.0)\n",
      "Epoch 045/100 | Loss 1.6791 | Win/lose count 13.5/2.0 (11.5)\n",
      "Epoch 046/100 | Loss 1.7060 | Win/lose count 18.5/4.0 (14.5)\n",
      "Epoch 047/100 | Loss 1.7107 | Win/lose count 15.0/6.0 (9.0)\n",
      "Epoch 048/100 | Loss 1.6744 | Win/lose count 25.0/4.0 (21.0)\n",
      "Epoch 049/100 | Loss 1.6320 | Win/lose count 21.0/4.0 (17.0)\n",
      "Epoch 050/100 | Loss 1.7051 | Win/lose count 20.5/5.0 (15.5)\n",
      "Epoch 051/100 | Loss 1.6921 | Win/lose count 8.5/1.0 (7.5)\n",
      "Epoch 052/100 | Loss 1.6131 | Win/lose count 12.5/0 (12.5)\n",
      "Epoch 053/100 | Loss 1.6445 | Win/lose count 12.0/1.0 (11.0)\n",
      "Epoch 054/100 | Loss 1.6272 | Win/lose count 12.5/2.0 (10.5)\n",
      "Epoch 055/100 | Loss 1.5944 | Win/lose count 7.0/1.0 (6.0)\n",
      "Epoch 056/100 | Loss 1.6262 | Win/lose count 6.0/0 (6.0)\n",
      "Epoch 057/100 | Loss 1.6572 | Win/lose count 18.5/5.0 (13.5)\n",
      "Epoch 058/100 | Loss 1.6793 | Win/lose count 14.5/4.0 (10.5)\n",
      "Epoch 059/100 | Loss 1.5942 | Win/lose count 23.0/1.0 (22.0)\n",
      "Epoch 060/100 | Loss 1.6290 | Win/lose count 20.5/2.0 (18.5)\n",
      "Epoch 061/100 | Loss 1.6504 | Win/lose count 14.5/2.0 (12.5)\n",
      "Epoch 062/100 | Loss 1.7229 | Win/lose count 11.0/3.0 (8.0)\n",
      "Epoch 063/100 | Loss 1.8143 | Win/lose count 19.5/3.0 (16.5)\n",
      "Epoch 064/100 | Loss 1.7811 | Win/lose count 20.0/3.0 (17.0)\n",
      "Epoch 065/100 | Loss 1.8040 | Win/lose count 22.0/2.0 (20.0)\n",
      "Epoch 066/100 | Loss 1.7521 | Win/lose count 17.0/2.0 (15.0)\n",
      "Epoch 067/100 | Loss 1.7898 | Win/lose count 18.0/7.0 (11.0)\n",
      "Epoch 068/100 | Loss 1.7334 | Win/lose count 3.5/0 (3.5)\n",
      "Epoch 069/100 | Loss 1.7275 | Win/lose count 13.0/1.0 (12.0)\n",
      "Epoch 070/100 | Loss 1.6647 | Win/lose count 25.0/2.0 (23.0)\n",
      "Epoch 071/100 | Loss 1.7711 | Win/lose count 22.0/5.0 (17.0)\n",
      "Epoch 072/100 | Loss 1.7016 | Win/lose count 19.0/10.0 (9.0)\n",
      "Epoch 073/100 | Loss 1.6976 | Win/lose count 12.0/5.0 (7.0)\n",
      "Epoch 074/100 | Loss 1.7048 | Win/lose count 12.5/3.0 (9.5)\n",
      "Epoch 075/100 | Loss 1.6703 | Win/lose count 16.0/6.0 (10.0)\n",
      "Epoch 076/100 | Loss 1.7458 | Win/lose count 19.5/4.0 (15.5)\n",
      "Epoch 077/100 | Loss 1.7000 | Win/lose count 14.5/4.0 (10.5)\n",
      "Epoch 078/100 | Loss 1.6534 | Win/lose count 10.5/2.0 (8.5)\n",
      "Epoch 079/100 | Loss 1.7002 | Win/lose count 21.0/3.0 (18.0)\n",
      "Epoch 080/100 | Loss 1.6504 | Win/lose count 13.5/5.0 (8.5)\n",
      "Epoch 081/100 | Loss 1.6198 | Win/lose count 15.5/2.0 (13.5)\n",
      "Epoch 082/100 | Loss 1.6390 | Win/lose count 17.0/5.0 (12.0)\n",
      "Epoch 083/100 | Loss 1.5663 | Win/lose count 8.0/4.0 (4.0)\n",
      "Epoch 084/100 | Loss 1.5541 | Win/lose count 3.0/2.0 (1.0)\n",
      "Epoch 085/100 | Loss 1.5448 | Win/lose count 18.5/8.0 (10.5)\n",
      "Epoch 086/100 | Loss 1.5366 | Win/lose count 19.0/2.0 (17.0)\n",
      "Epoch 087/100 | Loss 1.5767 | Win/lose count 20.5/4.0 (16.5)\n",
      "Epoch 088/100 | Loss 1.5904 | Win/lose count 20.0/2.0 (18.0)\n",
      "Epoch 089/100 | Loss 1.6086 | Win/lose count 19.0/1.0 (18.0)\n",
      "Epoch 090/100 | Loss 1.5539 | Win/lose count 19.5/2.0 (17.5)\n",
      "Epoch 091/100 | Loss 1.5091 | Win/lose count 6.5/1.0 (5.5)\n",
      "Epoch 092/100 | Loss 1.5689 | Win/lose count 21.5/2.0 (19.5)\n",
      "Epoch 093/100 | Loss 1.6205 | Win/lose count 22.5/2.0 (20.5)\n",
      "Epoch 094/100 | Loss 1.6755 | Win/lose count 19.5/5.0 (14.5)\n",
      "Epoch 095/100 | Loss 1.6709 | Win/lose count 20.5/3.0 (17.5)\n",
      "Epoch 096/100 | Loss 1.6321 | Win/lose count 11.0/2.0 (9.0)\n",
      "Epoch 097/100 | Loss 1.7234 | Win/lose count 13.5/4.0 (9.5)\n",
      "Epoch 098/100 | Loss 1.7093 | Win/lose count 15.0/2.0 (13.0)\n",
      "Epoch 099/100 | Loss 1.7437 | Win/lose count 14.5/3.0 (11.5)\n"
     ]
    },
    {
     "data": {
      "text/html": [
       "<video alt=\"test\" controls>\n",
       "                <source src=\"data:video/mp4;base64,AAAAIGZ0eXBpc29tAAACAGlzb21pc28yYXZjMW1wNDEAAAAIZnJlZQAAFt5tZGF0AAACrQYF//+p3EXpvebZSLeWLNgg2SPu73gyNjQgLSBjb3JlIDE1MiByMjg1NCBlOWE1OTAzIC0gSC4yNjQvTVBFRy00IEFWQyBjb2RlYyAtIENvcHlsZWZ0IDIwMDMtMjAxNyAtIGh0dHA6Ly93d3cudmlkZW9sYW4ub3JnL3gyNjQuaHRtbCAtIG9wdGlvbnM6IGNhYmFjPTEgcmVmPTMgZGVibG9jaz0xOjA6MCBhbmFseXNlPTB4MToweDExMSBtZT1oZXggc3VibWU9NyBwc3k9MSBwc3lfcmQ9MS4wMDowLjAwIG1peGVkX3JlZj0xIG1lX3JhbmdlPTE2IGNocm9tYV9tZT0xIHRyZWxsaXM9MSA4eDhkY3Q9MCBjcW09MCBkZWFkem9uZT0yMSwxMSBmYXN0X3Bza2lwPTEgY2hyb21hX3FwX29mZnNldD00IHRocmVhZHM9MyBsb29rYWhlYWRfdGhyZWFkcz0xIHNsaWNlZF90aHJlYWRzPTAgbnI9MCBkZWNpbWF0ZT0xIGludGVybGFjZWQ9MCBibHVyYXlfY29tcGF0PTAgY29uc3RyYWluZWRfaW50cmE9MCBiZnJhbWVzPTMgYl9weXJhbWlkPTIgYl9hZGFwdD0xIGJfYmlhcz0wIGRpcmVjdD0xIHdlaWdodGI9MSBvcGVuX2dvcD0wIHdlaWdodHA9MiBrZXlpbnQ9MjUwIGtleWludF9taW49MjUgc2NlbmVjdXQ9NDAgaW50cmFfcmVmcmVzaD0wIHJjX2xvb2thaGVhZD00MCByYz1jcmYgbWJ0cmVlPTEgY3JmPTIzLjAgcWNvbXA9MC42MCBxcG1pbj0wIHFwbWF4PTY5IHFwc3RlcD00IGlwX3JhdGlvPTEuNDAgYXE9MToxLjAwAIAAAAMbZYiEADf//vaH+BTZWBP+Wb/9DX/cj9uPrP1xYyEE31qvIejAGS+1H+b/rFFs6Z6UB/fgCJQAc24ZwpHZJ46w5MIvVHwKXAT74FNJkUf2kz8kZ79iJJSbY0nmI5f5Vpmauq0PJY+mS6P6M6jfQ2TlXMIjEHQ/2O6sg29Iv+6gZbpNbSprSD8CqEnRVyWgZYvMiGGfMnjPyQMVvXsEQkNHs5xCxmy7l6xLr97BP/TnfPVZcgM7wOpenbu4V/pHnqjvG4VcOGJw+BhCw2ze8H+rOKSEvgkne5r0DzIKWvf/nXOhGMF/pnPGiTI5NBUT4DA98okJFLKj96eHlJE7kdSprCMAjwP7jLEJninU/soimDoYNKdmdNEzLVjMWbFWjGTAhJMoCTDpBDH80YqfFEcB6DtXZI4epS3z9p/seAhx5rAFVnVrmAH7fXYl2dS0T0B794FQGtNejcYVyapSazOQhbV6cn3W5jaM6NCOE0EF/2NGvK5HdIUcJIr/fNb4DkF0SlJ1X4QhXsra5my7Su7zx8MBE6a4AuccrVVyUuJG22VwJ/jpFBI7yu408QRbYY4oM3AVPUMn989y02VmT1GZpZvp5AFqZa0jHFabsTSwX3g5qQA94oOBSZUEokJxKib2kcyhKPtnTH91vLMs8nj3AoowDoSZrHR8pHTUhOiMXoND2DLcLsf7O6UQLUV88xAOzJLRMLlYYk5gfzoOxBZt1iZk+gdAfciaK4kZ859OajZd7LPEmOtFfMFaSET2BDslgQNgX0ivIsNoQQIkK+k9hOiIWz+gbedUfVj+Ulh7eRBiaBWE8Lnt2KWZrO//6eBZiXvKoBqRJHDj9A8Kl7Vu3hF6+4HLVih+oGgDv5siRMqg+akEDvKvKxbyn+XmYV8vFCsMHxggh+XR7AOwjYHyqF2QooxjoIrNh0bat1LQGGFPti+tSfgXP9U7czUD1obZR3ywL4rFHLM1PKAqmPgDsQIkMyi0MnpoUBySD5j069gsetwsHE1HOxvxEoczzPHBkLqzD2obP1UYqAZ4DUq/rQCy++KOyNLFAAEtAAAAIUGaJGxDf/6nhAAM77L6vgU19Qr8ClS2fgUzsDFr863SlwAAACJBnkJ4hf8AB5mq6gf4+EqXf/4hAQGWf/4gY7Vn/5/+ozqnAAAAEAGeYXRCvwAGmj/MRqOAUsAAAAAQAZ5jakK/AAqFjxyv1ilzwQAAABlBmmVJqEFomUwIb//+p4QADSurR1UNt6qBAAAAH0Gah0nhClJlMFESw7/+qZYACpaWYtMz72RMZgo+tyUAAAAPAZ6makK/ABDdnluGzaqjAAAAGkGaq0nhDomUwIb//qeEABYcWxgj3on72VuAAAAAFUGeyUUVPC//ABPk2fmbcTgKpHhoEAAAABABnuh0Qr8AGwkWVeBFd4CBAAAAEAGe6mpCvwAbpm5rjxVtSuAAAAAbQZrtSahBaJlMFPDf/qeEABY/dT7vL22fqnLAAAAADwGfDGpCvwAR2TKZtmRtbwAAABlBmw5J4QpSZTAh3/6plgAKp76sqszbMFNBAAAAHkGbMknhDomUwIb//qeEADE+wf5a6QatmJ/p8nuX1QAAABNBn1BFETwv/wAdBev4KE83unlcAAAAEAGfb3RCvwAn2ZTwOmU374AAAAAPAZ9xakK/ACfNt0o0h4rrAAAAF0GbdkmoQWiZTAhv//6nhAAT/40/ig+AAAAADkGflEURLC//AAvwi5egAAAAEAGfs3RCvwAY3UTybAfb8UEAAAAPAZ+1akK/ABjdROQMjaOLAAAAE0GbuEmoQWyZTBRMM//+nhAABH0AAAAPAZ/XakK/ABjdROQMjaOLAAAAGEGb2UnhClJlMCGf/p4QAHc9/d2nN3FwpgAAABhBm/pJ4Q6JlMCG//6nhAAdz2D17M+CLJ8AAAAZQZobSeEPJlMCG//+p4QAHR99n1HGhIc44AAAABhBmj5J4Q8mUwIb//6nhAAS746Y/w+rbs0AAAAPQZ5cRRE8K/8ADzArhvHBAAAADwGefWpCvwAOssAus9Wf0wAAABJBmmBJqEFomUwU8N/+p4QAAScAAAAPAZ6fakK/AA6ywC6z1Z/TAAAAEkGagknhClJlMFLDf/6nhAABJwAAAA8BnqFqQr8ADrLALrPVn9MAAAAYQZqjSeEOiZTAhv/+p4QAEm+jmgrWZTanAAAAGUGaxEnhDyZTAh3//qmWAAkPx50s6Op5VcEAAAAdQZroSeEPJlMCHf/+qZYADae0vC1CyEm4z5vPL0EAAAAQQZ8GRRE8L/8AD9/aFD2x8QAAABABnyV0Qr8AFi6Ac7Y402LhAAAADwGfJ2pCvwAWJRompKd7gAAAABNBmyxJqEFomUwId//+qZYAAJWAAAAADEGfSkURLC//AACygQAAAA8Bn2l0Qr8AFitHdHbfC4cAAAAPAZ9rakK/ABYlGiC1Hl7HAAAAE0GbcEmoQWyZTAh3//6plgAAlYEAAAAMQZ+ORRUsL/8AALKBAAAADwGfrXRCvwAWK0d0dt8LhwAAAA8Bn69qQr8AFiUaILUeXscAAAATQZu0SahBbJlMCHf//qmWAACVgAAAAAxBn9JFFSwv/wAAsoEAAAAPAZ/xdEK/ABYrR3R23wuHAAAADwGf82pCvwAWJRogtR5exwAAABNBm/hJqEFsmUwId//+qZYAAJWBAAAADEGeFkUVLC//AACygAAAAA8BnjV0Qr8AFitHdHbfC4cAAAAPAZ43akK/ABYlGiC1Hl7HAAAAE0GaPEmoQWyZTAh3//6plgAAlYAAAAAMQZ5aRRUsL/8AALKBAAAADwGeeXRCvwAWK0d0dt8LhwAAAA8BnntqQr8AFiUaILUeXscAAAASQZpgSahBbJlMCG///qeEAAEnAAAADEGenkUVLC//AACygAAAAA8Bnr10Qr8AFitHdHbfC4cAAAAPAZ6/akK/ABYlGiC1Hl7HAAAAGkGaoUmoQWyZTAh3//6plgANV7S/ndIUwjswAAAAEkGaxUnhClJlMCHf/qmWAACVgQAAAAxBnuNFNEwv/wAAsoAAAAAPAZ8CdEK/AA4rYGh5zy/lAAAADwGfBGpCvwAOJzholc8v5QAAABNBmwlJqEFomUwId//+qZYAAJWBAAAADEGfJ0URLC//AACygQAAAA8Bn0Z0Qr8ADitgaHnPL+UAAAAPAZ9IakK/AA4nOGiVzy/lAAAAEkGbTUmoQWyZTAhv//6nhAABJwAAAAxBn2tFFSwv/wAAsoAAAAAPAZ+KdEK/AA4rYGh5zy/lAAAADwGfjGpCvwAOJzholc8v5QAAABlBm5BJqEFsmUwIb//+p4QAEVHzHkYn+W7nAAAAD0GfrkUVLCv/AA4oK4b3wQAAAA0Bn89qQr8ADi1+MKe+AAAAJkGb00moQWyZTAhv//6nhAAS754nMsrxhn4FMtnZ8ChSlqrbyNoYAAAAEkGf8UUVLCv/AA8zRYJw2WbhZwAAABABnhJqQr8ADzMweS5nybWAAAAAGkGaFEmoQWyZTAh3//6plgAJj8edLOjqeVHAAAAAEkGaOEnhClJlMCHf/qmWAACVgQAAAAxBnlZFNEwv/wAAsoAAAAAQAZ51dEK/AA6ywDEdl2YFgQAAAA8BnndqQr8ADzVQ70y7fJEAAAATQZp8SahBaJlMCHf//qmWAACVgAAAAAxBnppFESwv/wAAsoEAAAAQAZ65dEK/AA6ywDEdl2YFgAAAAA8BnrtqQr8ADzVQ70y7fJEAAAATQZqgSahBbJlMCHf//qmWAACVgQAAAAxBnt5FFSwv/wAAsoAAAAAQAZ79dEK/AA6ywDEdl2YFgAAAAA8Bnv9qQr8ADzVQ70y7fJEAAAATQZrkSahBbJlMCHf//qmWAACVgAAAAAxBnwJFFSwv/wAAsoEAAAAQAZ8hdEK/AA6ywDEdl2YFgAAAAA8BnyNqQr8ADzVQ70y7fJEAAAAXQZsoSahBbJlMCG///qeEABxvYP8vaYEAAAAOQZ9GRRUsL/8AENz8LBEAAAAQAZ9ldEK/AA6ywDEdl2YFgQAAABABn2dqQr8AF0ja7rIYcqVAAAAAEkGbbEmoQWyZTAhv//6nhAABJwAAAAxBn4pFFSwv/wAAsoEAAAAQAZ+pdEK/ABdOgHP60DlSoAAAABABn6tqQr8AF0ja7rIYcqVAAAAAGUGbrUmoQWyZTAhv//6nhAASb46Y/w+rbtUAAAAZQZvOSeEKUmUwId/+qZYACQ/Hn79kG4qd4QAAAB9Bm/BJ4Q6JlMFNEw7//qmWAAXj31fcvy+lnKDcXKjBAAAADwGeD2pCvwAJbK3SjSHkRgAAAB1BmhRJ4Q8mUwId//6plgADqfCj4Pj1dazlBuIp4AAAABBBnjJFETwv/wAEVzxmjqv1AAAADwGeUXRCvwAF+SUQpgldgAAAAA8BnlNqQr8ABfiWlSKBLLIAAAATQZpYSahBaJlMCHf//qmWAACVgQAAAAxBnnZFESwv/wAAsoAAAAAPAZ6VdEK/AAPM2Boec8zpAAAADwGel2pCvwADy84aJXPM6QAAABNBmpxJqEFsmUwId//+qZYAAJWAAAAADEGeukUVLC//AACygQAAAA8Bntl0Qr8AA8zYGh5zzOkAAAAPAZ7bakK/AAPLzholc8zpAAAAJ0GawEmoQWyZTAh3//6plgACc/PI5llapqvApRIF4FM1y57Vt6xwYQAAABBBnv5FFSwv/wAC6UGzzzcgAAAADwGfHXRCvwADzNga6+N0gAAAABABnx9qQr8AA+LMHkuZ8tmBAAAAF0GbBEmoQWyZTAhv//6nhAAE/91P242AAAAADkGfIkUVLC//AAL8Iw+hAAAADwGfQXRCvwAD+NgaHnPM1wAAAA8Bn0NqQr8AA/fOGiVzzNcAAAAaQZtFSahBbJlMCHf//qmWAAJz8edLOjqeg8EAAAASQZtpSeEKUmUwId/+qZYAAJWBAAAADEGfh0U0TC//AACygQAAABABn6Z0Qr8AA8Khu6dl2hCAAAAADwGfqGpCvwADwqG7DPVo6QAAABNBm61JqEFomUwId//+qZYAAJWBAAAADEGfy0URLC//AACygAAAABABn+p0Qr8AA8Khu6dl2hCAAAAADwGf7GpCvwADwqG7DPVo6QAAAB5Bm/FJqEFsmUwId//+qZYAAoXuxcyyz59vu3O9Y3kAAAAQQZ4PRRUsL/8AAvwmX2A9gQAAABABni50Qr8AA/kShiNRwFHAAAAADwGeMGpCvwAD+V80OtIhgAAAABNBmjVJqEFsmUwId//+qZYAAJWBAAAADEGeU0UVLC//AACygAAAABABnnJ0Qr8AA+6hu6dl2gaAAAAADwGedGpCvwAD7qG7DPVo1wAAABNBmnlJqEFsmUwId//+qZYAAJWAAAAADEGel0UVLC//AACygQAAABABnrZ0Qr8AA+6hu6dl2gaBAAAADwGeuGpCvwAD7qG7DPVo1wAAABNBmr1JqEFsmUwId//+qZYAAJWBAAAADEGe20UVLC//AACygAAAABABnvp0Qr8AA+6hu6dl2gaBAAAADwGe/GpCvwAD7qG7DPVo1wAAABpBmuBJqEFsmUwId//+qZYAAoXvqyqzNsxXwAAAAA9Bnx5FFSwr/wAD+Arh6mAAAAANAZ8/akK/AAP5X4wrUwAAABxBmyNJqEFsmUwId//+qZYAAnPx50s6Opk6XxA4AAAAEkGfQUUVLCv/AAPiDAIBTAPFYQAAABABn2JqQr8AA8zPmN0OSEB4AAAAE0GbZ0moQWyZTAh3//6plgAAlYEAAAAMQZ+FRRUsL/8AALKBAAAAEAGfpHRCvwADwqG7p2XaEIEAAAAPAZ+makK/AAPCobsM9WjpAAAAE0Gbq0moQWyZTAh3//6plgAAlYAAAAAMQZ/JRRUsL/8AALKAAAAAEAGf6HRCvwADwqG7p2XaEIEAAAAPAZ/qakK/AAPCobsM9WjpAAAAHEGb70moQWyZTAh3//6plgACY/Hn8uz2oWQpdVsAAAAQQZ4NRRUsL/8AAtdAgpQ+GQAAAA8Bnix0Qr8AA8xegMkvEIEAAAAQAZ4uakK/AAPMC851oYYoQQAAABlBmjNJqEFsmUwId//+qZYAAmCpw/32l96xAAAAEEGeUUUVLC//AALWywT5HcAAAAAQAZ5wdEK/AAPNFWq8CK+BgQAAAA8BnnJqQr8AA81fNDrSK4AAAAATQZp3SahBbJlMCHf//qmWAACVgAAAAAxBnpVFFSwv/wAAsoEAAAAQAZ60dEK/AAPCobunZdoQgAAAAA8BnrZqQr8AA8Khuwz1aOkAAAATQZq7SahBbJlMCHf//qmWAACVgQAAAAxBntlFFSwv/wAAsoAAAAAQAZ74dEK/AAPCobunZdoQgQAAAA8BnvpqQr8AA8Khuwz1aOkAAAASQZr/SahBbJlMCG///qeEAAEnAAAADEGfHUUVLC//AACygQAAABABnzx0Qr8AA8Khu6dl2hCAAAAADwGfPmpCvwADwqG7DPVo6QAAABJBmyNJqEFsmUwIb//+p4QAAScAAAAMQZ9BRRUsL/8AALKAAAAAEAGfYHRCvwADwqG7p2XaEIEAAAAPAZ9iakK/AAPCobsM9WjpAAAAGUGbZkmoQWyZTAhn//6eEAAS0Q4/ngv5Jo0AAAARQZ+ERRUsK/8AA+LMWCQlcNMAAAAOAZ+lakK/AAPizWK4Fs0AAAAZQZunSahBbJlMCGf//p4QABNRDj+eC/kmbQAAABxBm8lL4QhClJEYIKAfyAf2HgFFSwr//jhAABFwAAAAJQGf6GpCvwKvY+1BxN2qw0km5aqGByy1u80qIJosnNp8AUV0X6AAAAw4bW9vdgAAAGxtdmhkAAAAAAAAAAAAAAAAAAAD6AAAH5AAAQAAAQAAAAAAAAAAAAAAAAEAAAAAAAAAAAAAAAAAAAABAAAAAAAAAAAAAAAAAABAAAAAAAAAAAAAAAAAAAAAAAAAAAAAAAAAAAAAAAAAAgAAC2J0cmFrAAAAXHRraGQAAAADAAAAAAAAAAAAAAABAAAAAAAAH5AAAAAAAAAAAAAAAAAAAAAAAAEAAAAAAAAAAAAAAAAAAAABAAAAAAAAAAAAAAAAAABAAAAAARAAAAEQAAAAAAAkZWR0cwAAABxlbHN0AAAAAAAAAAEAAB+QAAAEAAABAAAAAArabWRpYQAAACBtZGhkAAAAAAAAAAAAAAAAAAAyAAABlABVxAAAAAAALWhkbHIAAAAAAAAAAHZpZGUAAAAAAAAAAAAAAABWaWRlb0hhbmRsZXIAAAAKhW1pbmYAAAAUdm1oZAAAAAEAAAAAAAAAAAAAACRkaW5mAAAAHGRyZWYAAAAAAAAAAQAAAAx1cmwgAAAAAQAACkVzdGJsAAAAlXN0c2QAAAAAAAAAAQAAAIVhdmMxAAAAAAAAAAEAAAAAAAAAAAAAAAAAAAAAARABEABIAAAASAAAAAAAAAABAAAAAAAAAAAAAAAAAAAAAAAAAAAAAAAAAAAAAAAAAAAAGP//AAAAL2F2Y0MB9AAN/+EAF2f0AA2RmygiEdCAAAADAIAAABkHihTLAQAFaOvjxEgAAAAYc3R0cwAAAAAAAAABAAAAygAAAgAAAAAUc3RzcwAAAAAAAAABAAAAAQAABhBjdHRzAAAAAAAAAMAAAAABAAAEAAAAAAEAAAoAAAAAAQAABAAAAAABAAAAAAAAAAEAAAIAAAAAAQAABAAAAAABAAAGAAAAAAEAAAIAAAAAAQAACgAAAAABAAAEAAAAAAEAAAAAAAAAAQAAAgAAAAABAAAGAAAAAAEAAAIAAAAAAQAABAAAAAABAAAKAAAAAAEAAAQAAAAAAQAAAAAAAAABAAACAAAAAAEAAAoAAAAAAQAABAAAAAABAAAAAAAAAAEAAAIAAAAAAQAABgAAAAABAAACAAAAAAMAAAQAAAAAAQAACAAAAAACAAACAAAAAAEAAAYAAAAAAQAAAgAAAAABAAAGAAAAAAEAAAIAAAAAAgAABAAAAAABAAAKAAAAAAEAAAQAAAAAAQAAAAAAAAABAAACAAAAAAEAAAoAAAAAAQAABAAAAAABAAAAAAAAAAEAAAIAAAAAAQAACgAAAAABAAAEAAAAAAEAAAAAAAAAAQAAAgAAAAABAAAKAAAAAAEAAAQAAAAAAQAAAAAAAAABAAACAAAAAAEAAAoAAAAAAQAABAAAAAABAAAAAAAAAAEAAAIAAAAAAQAACgAAAAABAAAEAAAAAAEAAAAAAAAAAQAAAgAAAAABAAAKAAAAAAEAAAQAAAAAAQAAAAAAAAABAAACAAAAAAEAAAQAAAAAAQAACgAAAAABAAAEAAAAAAEAAAAAAAAAAQAAAgAAAAABAAAKAAAAAAEAAAQAAAAAAQAAAAAAAAABAAACAAAAAAEAAAoAAAAAAQAABAAAAAABAAAAAAAAAAEAAAIAAAAAAQAACAAAAAACAAACAAAAAAEAAAgAAAAAAgAAAgAAAAABAAAEAAAAAAEAAAoAAAAAAQAABAAAAAABAAAAAAAAAAEAAAIAAAAAAQAACgAAAAABAAAEAAAAAAEAAAAAAAAAAQAAAgAAAAABAAAKAAAAAAEAAAQAAAAAAQAAAAAAAAABAAACAAAAAAEAAAoAAAAAAQAABAAAAAABAAAAAAAAAAEAAAIAAAAAAQAACgAAAAABAAAEAAAAAAEAAAAAAAAAAQAAAgAAAAABAAAKAAAAAAEAAAQAAAAAAQAAAAAAAAABAAACAAAAAAIAAAQAAAAAAQAABgAAAAABAAACAAAAAAEAAAoAAAAAAQAABAAAAAABAAAAAAAAAAEAAAIAAAAAAQAACgAAAAABAAAEAAAAAAEAAAAAAAAAAQAAAgAAAAABAAAKAAAAAAEAAAQAAAAAAQAAAAAAAAABAAACAAAAAAEAAAoAAAAAAQAABAAAAAABAAAAAAAAAAEAAAIAAAAAAQAACgAAAAABAAAEAAAAAAEAAAAAAAAAAQAAAgAAAAABAAAEAAAAAAEAAAoAAAAAAQAABAAAAAABAAAAAAAAAAEAAAIAAAAAAQAACgAAAAABAAAEAAAAAAEAAAAAAAAAAQAAAgAAAAABAAAKAAAAAAEAAAQAAAAAAQAAAAAAAAABAAACAAAAAAEAAAoAAAAAAQAABAAAAAABAAAAAAAAAAEAAAIAAAAAAQAACgAAAAABAAAEAAAAAAEAAAAAAAAAAQAAAgAAAAABAAAKAAAAAAEAAAQAAAAAAQAAAAAAAAABAAACAAAAAAEAAAgAAAAAAgAAAgAAAAABAAAIAAAAAAIAAAIAAAAAAQAACgAAAAABAAAEAAAAAAEAAAAAAAAAAQAAAgAAAAABAAAKAAAAAAEAAAQAAAAAAQAAAAAAAAABAAACAAAAAAEAAAoAAAAAAQAABAAAAAABAAAAAAAAAAEAAAIAAAAAAQAACgAAAAABAAAEAAAAAAEAAAAAAAAAAQAAAgAAAAABAAAKAAAAAAEAAAQAAAAAAQAAAAAAAAABAAACAAAAAAEAAAoAAAAAAQAABAAAAAABAAAAAAAAAAEAAAIAAAAAAQAACgAAAAABAAAEAAAAAAEAAAAAAAAAAQAAAgAAAAABAAAKAAAAAAEAAAQAAAAAAQAAAAAAAAABAAACAAAAAAEAAAgAAAAAAgAAAgAAAAABAAAEAAAAAAEAAAYAAAAAAQAAAgAAAAAcc3RzYwAAAAAAAAABAAAAAQAAAMoAAAABAAADPHN0c3oAAAAAAAAAAAAAAMoAAAXQAAAAJQAAACYAAAAUAAAAFAAAAB0AAAAjAAAAEwAAAB4AAAAZAAAAFAAAABQAAAAfAAAAEwAAAB0AAAAiAAAAFwAAABQAAAATAAAAGwAAABIAAAAUAAAAEwAAABcAAAATAAAAHAAAABwAAAAdAAAAHAAAABMAAAATAAAAFgAAABMAAAAWAAAAEwAAABwAAAAdAAAAIQAAABQAAAAUAAAAEwAAABcAAAAQAAAAEwAAABMAAAAXAAAAEAAAABMAAAATAAAAFwAAABAAAAATAAAAEwAAABcAAAAQAAAAEwAAABMAAAAXAAAAEAAAABMAAAATAAAAFgAAABAAAAATAAAAEwAAAB4AAAAWAAAAEAAAABMAAAATAAAAFwAAABAAAAATAAAAEwAAABYAAAAQAAAAEwAAABMAAAAdAAAAEwAAABEAAAAqAAAAFgAAABQAAAAeAAAAFgAAABAAAAAUAAAAEwAAABcAAAAQAAAAFAAAABMAAAAXAAAAEAAAABQAAAATAAAAFwAAABAAAAAUAAAAEwAAABsAAAASAAAAFAAAABQAAAAWAAAAEAAAABQAAAAUAAAAHQAAAB0AAAAjAAAAEwAAACEAAAAUAAAAEwAAABMAAAAXAAAAEAAAABMAAAATAAAAFwAAABAAAAATAAAAEwAAACsAAAAUAAAAEwAAABQAAAAbAAAAEgAAABMAAAATAAAAHgAAABYAAAAQAAAAFAAAABMAAAAXAAAAEAAAABQAAAATAAAAIgAAABQAAAAUAAAAEwAAABcAAAAQAAAAFAAAABMAAAAXAAAAEAAAABQAAAATAAAAFwAAABAAAAAUAAAAEwAAAB4AAAATAAAAEQAAACAAAAAWAAAAFAAAABcAAAAQAAAAFAAAABMAAAAXAAAAEAAAABQAAAATAAAAIAAAABQAAAATAAAAFAAAAB0AAAAUAAAAFAAAABMAAAAXAAAAEAAAABQAAAATAAAAFwAAABAAAAAUAAAAEwAAABYAAAAQAAAAFAAAABMAAAAWAAAAEAAAABQAAAATAAAAHQAAABUAAAASAAAAHQAAACAAAAApAAAAFHN0Y28AAAAAAAAAAQAAADAAAABidWR0YQAAAFptZXRhAAAAAAAAACFoZGxyAAAAAAAAAABtZGlyYXBwbAAAAAAAAAAAAAAAAC1pbHN0AAAAJal0b28AAAAdZGF0YQAAAAEAAAAATGF2ZjU3LjgzLjEwMA==\" type=\"video/mp4\" />\n",
       "             </video>"
      ],
      "text/plain": [
       "<IPython.core.display.HTML object>"
      ]
     },
     "execution_count": 63,
     "metadata": {
      "tags": []
     },
     "output_type": "execute_result"
    }
   ],
   "source": [
    "env = Environment(grid_size=size, max_time=T, temperature=0.3)\n",
    "agent = DQN_CNN(size, lr=.1, epsilon = 0.1, memory_size=2000, batch_size = 32)\n",
    "train(agent,env,epochs_train,prefix='cnn_train')\n",
    "HTML(display_videos('cnn_train10.mp4'))"
   ]
  },
  {
   "cell_type": "markdown",
   "metadata": {
    "colab_type": "text",
    "id": "ffov4FqUb72g"
   },
   "source": [
    "***\n",
    "***\n",
    "__Question 9__ Test both algorithms and compare their performances. Which issue(s) do you observe? Observe also different behaviors by changing the temperature."
   ]
  },
  {
   "cell_type": "code",
   "execution_count": 64,
   "metadata": {
    "colab": {
     "base_uri": "https://localhost:8080/",
     "height": 443
    },
    "colab_type": "code",
    "id": "H9A-jLFhb72h",
    "outputId": "a8fcdef0-0ef7-48ec-e68f-73a78fc26b04"
   },
   "outputs": [
    {
     "name": "stdout",
     "output_type": "stream",
     "text": [
      "Test of the CNN\n",
      "Win/lose count 16.5/3.0. Average score (13.5)\n",
      "Win/lose count 14.0/7.0. Average score (10.25)\n",
      "Win/lose count 13.5/0. Average score (11.333333333333334)\n",
      "Win/lose count 9.0/2.0. Average score (10.25)\n",
      "Win/lose count 19.5/5.0. Average score (11.1)\n",
      "Win/lose count 11.0/4.0. Average score (10.416666666666666)\n",
      "Win/lose count 13.0/1.0. Average score (10.642857142857142)\n",
      "Win/lose count 8.5/2.0. Average score (10.125)\n",
      "Win/lose count 16.0/3.0. Average score (10.444444444444445)\n",
      "Win/lose count 9.0/1.0. Average score (10.2)\n",
      "Final score: 10.2\n",
      "Test of the FC\n",
      "Win/lose count 3.5/2.0. Average score (1.5)\n",
      "Win/lose count 1.0/2.0. Average score (0.25)\n",
      "Win/lose count 4.0/6.0. Average score (-0.5)\n",
      "Win/lose count 2.5/6.0. Average score (-1.25)\n",
      "Win/lose count 2.0/3.0. Average score (-1.2)\n",
      "Win/lose count 1.5/6.0. Average score (-1.75)\n",
      "Win/lose count 3.5/3.0. Average score (-1.4285714285714286)\n",
      "Win/lose count 2.5/4.0. Average score (-1.4375)\n",
      "Win/lose count 3.5/6.0. Average score (-1.5555555555555556)\n",
      "Win/lose count 4.0/7.0. Average score (-1.7)\n",
      "Final score: -1.7\n"
     ]
    }
   ],
   "source": [
    "env = Environment(grid_size=size, max_time=T,temperature=0.3)\n",
    "agent_cnn = DQN_CNN(size, lr=.1, epsilon = 0.1, memory_size=2000, batch_size = 32)\n",
    "agent_cnn.load(name_weights='cnn_trainmodel.h5',name_model='cnn_trainmodel.json')\n",
    "\n",
    "agent_fc = DQN_FC(size, lr=.1, epsilon = 0.1, memory_size=2000, batch_size = 32)\n",
    "agent_cnn.load(name_weights='fc_trainmodel.h5',name_model='fc_trainmodel.json')\n",
    "print('Test of the CNN')\n",
    "test(agent_cnn,env,epochs_test,prefix='cnn_test')\n",
    "print('Test of the FC')\n",
    "test(agent_fc,env,epochs_test,prefix='fc_test')"
   ]
  },
  {
   "cell_type": "code",
   "execution_count": 0,
   "metadata": {
    "colab": {},
    "colab_type": "code",
    "id": "Ag-hZWUFb72m"
   },
   "outputs": [],
   "source": [
    "HTML(display_videos('cnn_test10.mp4'))"
   ]
  },
  {
   "cell_type": "code",
   "execution_count": 0,
   "metadata": {
    "colab": {},
    "colab_type": "code",
    "id": "Qp2g90Z9b72p"
   },
   "outputs": [],
   "source": [
    "HTML(display_videos('fc_test10.mp4'))"
   ]
  },
  {
   "cell_type": "markdown",
   "metadata": {
    "colab_type": "text",
    "id": "xN_alUGLb72s"
   },
   "source": [
    "The CNN seems to perform better than the neural network. With both methods , the rat used to oscillate much more around some positions to avoid punitions. They seem not to explore more to check if there is remaining cheese (there is no incentive discover new areas of the map). The agent seems also to learn to stay away from posion and hence cannot get to a cheese cell surrounded by poison cells."
   ]
  },
  {
   "cell_type": "markdown",
   "metadata": {
    "colab_type": "text",
    "id": "EAxtveo2b72s"
   },
   "source": [
    "***\n",
    "\n",
    "The algorithm tends to not explore the map which can be an issue. We propose two ideas in order to encourage exploration:\n",
    "1. Incorporating a decreasing $\\epsilon$-greedy exploration. You can use the method ```set_epsilon```\n",
    "2. Append via the environment a new state that describes if a cell has been visited or not\n",
    "\n",
    "***\n",
    "__Question 10__ Design a new ```train_explore``` function and environment class ```EnvironmentExploring``` to tackle the issue of exploration.\n",
    "\n"
   ]
  },
  {
   "cell_type": "markdown",
   "metadata": {
    "colab_type": "text",
    "id": "n86UpZYWvCmZ"
   },
   "source": []
  },
  {
   "cell_type": "code",
   "execution_count": 0,
   "metadata": {
    "colab": {},
    "colab_type": "code",
    "id": "9qbheRf7b72t"
   },
   "outputs": [],
   "source": [
    "def train_explore(agent,env,epoch,prefix=''):\n",
    "    # Number of won games\n",
    "    score = 0\n",
    "    loss = 0\n",
    "\n",
    "    for e in range(epoch):\n",
    "        # At each epoch, we restart to a fresh game and get the initial state\n",
    "        state = env.reset()\n",
    "        # This assumes that the games will terminate\n",
    "        game_over = False\n",
    "\n",
    "        win = 0\n",
    "        lose = 0\n",
    "\n",
    "        while not game_over:\n",
    "            # The agent performs an action\n",
    "            action = agent.act(state, train = True)\n",
    "\n",
    "            # Apply an action to the environment, get the next state, the reward\n",
    "            # and if the games end\n",
    "            prev_state = state\n",
    "            state, reward, game_over = env.act(action, train = True)\n",
    "\n",
    "            # Update the counters\n",
    "            if reward > 0:\n",
    "                win = win + reward\n",
    "            if reward < 0:\n",
    "                lose = lose - reward\n",
    "\n",
    "            # Update the epsilon for the epsilong greedy policy\n",
    "            agent.set_epsilon(np.exp(-e/40))\n",
    "            # Apply the reinforcement strategy\n",
    "            loss = agent.reinforce(prev_state, state,  action, reward, game_over)\n",
    "\n",
    "        # Save as a mp4\n",
    "        if e % 10 == 0:\n",
    "            env.draw(prefix+str(e))\n",
    "\n",
    "        # Update stats\n",
    "        score += win-lose\n",
    "\n",
    "        print(\"Epoch {:03d}/{:03d} | Loss {:.4f} | Win/lose count {}/{} ({})\"\n",
    "              .format(e, epoch, loss, win, lose, win-lose))\n",
    "        agent.save(name_weights=prefix+'model.h5',name_model=prefix+'model.json')\n",
    "        \n",
    "class EnvironmentExploring(object):\n",
    "    def __init__(self, grid_size=10, max_time=500, temperature=0.1):\n",
    "        grid_size = grid_size+4\n",
    "        self.grid_size = grid_size\n",
    "        self.max_time = max_time\n",
    "        self.temperature = temperature\n",
    "\n",
    "        #board on which one plays\n",
    "        self.board = np.zeros((grid_size,grid_size))\n",
    "        self.position = np.zeros((grid_size,grid_size))\n",
    "        self.visited = np.zeros((grid_size, grid_size))\n",
    "        \n",
    "        # coordinate of the rat\n",
    "        self.x = 0\n",
    "        self.y = 1\n",
    "\n",
    "        # self time\n",
    "        self.t = 0\n",
    "\n",
    "        self.scale=16\n",
    "\n",
    "        self.to_draw = np.zeros((max_time+2, grid_size*self.scale, grid_size*self.scale, 3))\n",
    "\n",
    "\n",
    "    def draw(self,e):\n",
    "        skvideo.io.vwrite(str(e) + '.mp4', self.to_draw)\n",
    "\n",
    "    def get_frame(self,t):\n",
    "        b = np.zeros((self.grid_size,self.grid_size,3))+128\n",
    "        b[self.board>0,0] = 256\n",
    "        b[self.board < 0, 1] = 256\n",
    "        b[self.visited>0, 2] = 256\n",
    "        b[self.x,self.y,:]=256\n",
    "        b[-2:,:,:]= 0\n",
    "        b[:,-2:,:]= 0\n",
    "        b[:2,:,:]= 0\n",
    "        b[:,:2,:]= 0\n",
    "\n",
    "        \n",
    "        b =  cv2.resize(b, None, fx=self.scale, fy=self.scale, interpolation=cv2.INTER_NEAREST)\n",
    "\n",
    "        self.to_draw[t,:,:,:]=b\n",
    "\n",
    "\n",
    "    def act(self, action, train = False):\n",
    "        \"\"\"This function returns the new state, reward and decides if the\n",
    "        game ends.\"\"\"\n",
    "\n",
    "        self.get_frame(int(self.t))\n",
    "\n",
    "        self.position = np.zeros((self.grid_size, self.grid_size))\n",
    "\n",
    "        self.position[0:2,:]= -1\n",
    "        self.position[:,0:2] = -1\n",
    "        self.position[-2:, :] = -1\n",
    "        self.position[:, -2:] = -1\n",
    "\n",
    "        self.position[self.x, self.y] = 1\n",
    "        if action == 0:\n",
    "            if self.x == self.grid_size-3:\n",
    "                self.x = self.x-1\n",
    "            else:\n",
    "                self.x = self.x + 1\n",
    "        elif action == 1:\n",
    "            if self.x == 2:\n",
    "                self.x = self.x+1\n",
    "            else:\n",
    "                self.x = self.x-1\n",
    "        elif action == 2:\n",
    "            if self.y == self.grid_size - 3:\n",
    "                self.y = self.y - 1\n",
    "            else:\n",
    "                self.y = self.y + 1\n",
    "        elif action == 3:\n",
    "            if self.y == 2:\n",
    "                self.y = self.y + 1\n",
    "            else:\n",
    "                self.y = self.y - 1\n",
    "        else:\n",
    "            RuntimeError('Error: action not recognized')\n",
    "\n",
    "        self.t = self.t + 1\n",
    "        \n",
    "        reward = 0\n",
    "        #During training we penalise going back to a visited state\n",
    "        if train:\n",
    "            reward = - self.visited[self.x, self.y] * 0.1\n",
    "        #We tag the new position as visited\n",
    "        self.visited[self.x, self.y] = 1\n",
    "        reward = reward + self.board[self.x, self.y]\n",
    "        self.board[self.x, self.y] = 0\n",
    "        game_over = self.t > self.max_time\n",
    "        state = np.concatenate((self.board.reshape(self.grid_size, self.grid_size,1),\n",
    "                        self.position.reshape(self.grid_size, self.grid_size,1),\n",
    "                        self.visited[:,:,np.newaxis]),axis=2)\n",
    "        state = state[self.x-2:self.x+3,self.y-2:self.y+3,:]\n",
    "\n",
    "        return state, reward, game_over\n",
    "\n",
    "    def reset(self):\n",
    "        \"\"\"This function resets the game and returns the initial state\"\"\"\n",
    "\n",
    "        self.x = np.random.randint(3, self.grid_size-3, size=1)[0]\n",
    "        self.y = np.random.randint(3, self.grid_size-3, size=1)[0]\n",
    "\n",
    "\n",
    "        bonus = 0.5*np.random.binomial(1,self.temperature,size=self.grid_size**2)\n",
    "        bonus = bonus.reshape(self.grid_size,self.grid_size)\n",
    "\n",
    "        malus = -1.0*np.random.binomial(1,self.temperature,size=self.grid_size**2)\n",
    "        malus = malus.reshape(self.grid_size, self.grid_size)\n",
    "\n",
    "        self.to_draw = np.zeros((self.max_time+2, self.grid_size*self.scale, self.grid_size*self.scale, 3))\n",
    "\n",
    "\n",
    "        malus[bonus>0]=0\n",
    "\n",
    "        self.board = bonus + malus\n",
    "\n",
    "        self.position = np.zeros((self.grid_size, self.grid_size))\n",
    "        self.position[0:2,:]= -1\n",
    "        self.position[:,0:2] = -1\n",
    "        self.position[-2:, :] = -1\n",
    "        self.position[-2:, :] = -1\n",
    "        self.board[self.x,self.y] = 0\n",
    "        #We tag the initial position as visited\n",
    "        self.visited = np.zeros((self.grid_size, self.grid_size))\n",
    "        self.visited[self.x, self.y] = 1\n",
    "        self.t = 0\n",
    "\n",
    "        state = np.concatenate((self.board.reshape(self.grid_size, self.grid_size,1),\n",
    "                        self.position.reshape(self.grid_size, self.grid_size,1),\n",
    "                        self.visited[:,:,np.newaxis]),axis=2)\n",
    "\n",
    "        state = state[self.x - 2:self.x + 3, self.y - 2:self.y + 3, :]\n",
    "        return state"
   ]
  },
  {
   "cell_type": "code",
   "execution_count": 66,
   "metadata": {
    "colab": {
     "base_uri": "https://localhost:8080/",
     "height": 2071
    },
    "colab_type": "code",
    "id": "vK0C9Ufrb72v",
    "outputId": "b0568203-e363-4c13-96e0-cc08e23f9e4b"
   },
   "outputs": [
    {
     "name": "stdout",
     "output_type": "stream",
     "text": [
      "Epoch 000/100 | Loss 0.0113 | Win/lose count 2.5/26.000000000000103 (-23.500000000000103)\n",
      "Epoch 001/100 | Loss 0.0161 | Win/lose count 3.5/31.000000000000107 (-27.500000000000107)\n",
      "Epoch 002/100 | Loss 0.0097 | Win/lose count 7.0/24.000000000000043 (-17.000000000000043)\n",
      "Epoch 003/100 | Loss 0.0129 | Win/lose count 9.0/30.400000000000105 (-21.400000000000105)\n",
      "Epoch 004/100 | Loss 0.0435 | Win/lose count 17.5/25.300000000000054 (-7.800000000000054)\n",
      "Epoch 005/100 | Loss 0.4524 | Win/lose count 10.0/30.90000000000014 (-20.90000000000014)\n",
      "Epoch 006/100 | Loss 1.5767 | Win/lose count 13.0/27.600000000000094 (-14.600000000000094)\n",
      "Epoch 007/100 | Loss 1.5804 | Win/lose count 11.0/21.800000000000054 (-10.800000000000054)\n",
      "Epoch 008/100 | Loss 1.4914 | Win/lose count 13.5/28.100000000000023 (-14.600000000000023)\n",
      "Epoch 009/100 | Loss 1.5490 | Win/lose count 19.0/21.900000000000016 (-2.9000000000000163)\n",
      "Epoch 010/100 | Loss 1.5634 | Win/lose count 15.5/27.100000000000062 (-11.600000000000062)\n",
      "Epoch 011/100 | Loss 1.6141 | Win/lose count 6.0/24.20000000000005 (-18.20000000000005)\n",
      "Epoch 012/100 | Loss 1.6701 | Win/lose count 16.0/24.20000000000004 (-8.200000000000038)\n",
      "Epoch 013/100 | Loss 1.5906 | Win/lose count 14.0/26.9000000000001 (-12.900000000000102)\n",
      "Epoch 014/100 | Loss 1.6462 | Win/lose count 12.0/24.30000000000009 (-12.30000000000009)\n",
      "Epoch 015/100 | Loss 1.6494 | Win/lose count 13.0/28.100000000000087 (-15.100000000000087)\n",
      "Epoch 016/100 | Loss 1.7122 | Win/lose count 17.0/29.000000000000043 (-12.000000000000043)\n",
      "Epoch 017/100 | Loss 1.6067 | Win/lose count 16.5/23.50000000000001 (-7.000000000000011)\n",
      "Epoch 018/100 | Loss 1.7084 | Win/lose count 14.5/29.200000000000095 (-14.700000000000095)\n",
      "Epoch 019/100 | Loss 1.5541 | Win/lose count 17.5/28.000000000000075 (-10.500000000000075)\n",
      "Epoch 020/100 | Loss 1.6345 | Win/lose count 15.5/20.80000000000001 (-5.300000000000011)\n",
      "Epoch 021/100 | Loss 1.6238 | Win/lose count 21.0/29.300000000000075 (-8.300000000000075)\n",
      "Epoch 022/100 | Loss 1.6056 | Win/lose count 15.5/22.90000000000003 (-7.4000000000000306)\n",
      "Epoch 023/100 | Loss 1.7101 | Win/lose count 22.0/20.500000000000025 (1.4999999999999751)\n",
      "Epoch 024/100 | Loss 1.5116 | Win/lose count 14.5/23.900000000000006 (-9.400000000000006)\n",
      "Epoch 025/100 | Loss 1.5943 | Win/lose count 20.5/15.799999999999972 (4.700000000000028)\n",
      "Epoch 026/100 | Loss 1.6121 | Win/lose count 18.0/27.40000000000005 (-9.400000000000048)\n",
      "Epoch 027/100 | Loss 1.5686 | Win/lose count 23.5/23.80000000000004 (-0.3000000000000398)\n",
      "Epoch 028/100 | Loss 1.5770 | Win/lose count 22.5/20.900000000000002 (1.5999999999999979)\n",
      "Epoch 029/100 | Loss 1.6068 | Win/lose count 24.0/24.900000000000034 (-0.9000000000000341)\n",
      "Epoch 030/100 | Loss 1.5927 | Win/lose count 19.5/24.700000000000053 (-5.200000000000053)\n",
      "Epoch 031/100 | Loss 1.7002 | Win/lose count 20.5/15.499999999999975 (5.000000000000025)\n",
      "Epoch 032/100 | Loss 1.6359 | Win/lose count 21.0/21.400000000000013 (-0.4000000000000128)\n",
      "Epoch 033/100 | Loss 1.7726 | Win/lose count 18.0/19.500000000000004 (-1.5000000000000036)\n",
      "Epoch 034/100 | Loss 1.6149 | Win/lose count 29.0/21.200000000000017 (7.799999999999983)\n",
      "Epoch 035/100 | Loss 1.6973 | Win/lose count 24.0/19.200000000000017 (4.799999999999983)\n",
      "Epoch 036/100 | Loss 1.5933 | Win/lose count 19.5/16.799999999999976 (2.700000000000024)\n",
      "Epoch 037/100 | Loss 1.5993 | Win/lose count 22.5/20.60000000000003 (1.8999999999999702)\n",
      "Epoch 038/100 | Loss 1.7051 | Win/lose count 14.5/20.60000000000003 (-6.10000000000003)\n",
      "Epoch 039/100 | Loss 1.6154 | Win/lose count 17.5/20.900000000000006 (-3.4000000000000057)\n",
      "Epoch 040/100 | Loss 1.5338 | Win/lose count 24.5/20.999999999999993 (3.500000000000007)\n",
      "Epoch 041/100 | Loss 1.4614 | Win/lose count 23.0/18.100000000000012 (4.899999999999988)\n",
      "Epoch 042/100 | Loss 1.5036 | Win/lose count 18.5/16.799999999999994 (1.7000000000000064)\n",
      "Epoch 043/100 | Loss 1.5259 | Win/lose count 22.0/17.89999999999999 (4.1000000000000085)\n",
      "Epoch 044/100 | Loss 1.5683 | Win/lose count 28.0/15.899999999999977 (12.100000000000023)\n",
      "Epoch 045/100 | Loss 1.5400 | Win/lose count 18.5/19.399999999999995 (-0.899999999999995)\n",
      "Epoch 046/100 | Loss 1.4406 | Win/lose count 18.0/19.900000000000006 (-1.9000000000000057)\n",
      "Epoch 047/100 | Loss 1.2462 | Win/lose count 24.0/13.799999999999988 (10.200000000000012)\n",
      "Epoch 048/100 | Loss 1.4228 | Win/lose count 25.5/16.099999999999977 (9.400000000000023)\n",
      "Epoch 049/100 | Loss 1.5223 | Win/lose count 32.5/16.699999999999985 (15.800000000000015)\n",
      "Epoch 050/100 | Loss 1.5265 | Win/lose count 20.0/18.400000000000013 (1.5999999999999872)\n",
      "Epoch 051/100 | Loss 1.4276 | Win/lose count 23.0/17.3 (5.699999999999999)\n",
      "Epoch 052/100 | Loss 1.5546 | Win/lose count 23.0/19.600000000000023 (3.3999999999999773)\n",
      "Epoch 053/100 | Loss 1.4402 | Win/lose count 26.0/18.2 (7.800000000000001)\n",
      "Epoch 054/100 | Loss 1.5825 | Win/lose count 25.5/11.599999999999978 (13.900000000000022)\n",
      "Epoch 055/100 | Loss 1.5396 | Win/lose count 19.5/17.900000000000002 (1.5999999999999979)\n",
      "Epoch 056/100 | Loss 1.5992 | Win/lose count 24.0/14.69999999999997 (9.30000000000003)\n",
      "Epoch 057/100 | Loss 1.5135 | Win/lose count 22.5/18.599999999999998 (3.900000000000002)\n",
      "Epoch 058/100 | Loss 1.4017 | Win/lose count 23.0/17.79999999999999 (5.20000000000001)\n",
      "Epoch 059/100 | Loss 1.3244 | Win/lose count 23.0/12.399999999999979 (10.600000000000021)\n",
      "Epoch 060/100 | Loss 1.3723 | Win/lose count 26.0/14.999999999999977 (11.000000000000023)\n",
      "Epoch 061/100 | Loss 1.4310 | Win/lose count 23.5/11.299999999999976 (12.200000000000024)\n",
      "Epoch 062/100 | Loss 1.4503 | Win/lose count 27.0/11.899999999999975 (15.100000000000025)\n",
      "Epoch 063/100 | Loss 1.3651 | Win/lose count 23.5/13.599999999999977 (9.900000000000023)\n",
      "Epoch 064/100 | Loss 1.2527 | Win/lose count 24.5/20.500000000000036 (3.9999999999999645)\n",
      "Epoch 065/100 | Loss 1.2662 | Win/lose count 17.5/12.899999999999972 (4.600000000000028)\n",
      "Epoch 066/100 | Loss 1.1618 | Win/lose count 22.5/16.89999999999999 (5.6000000000000085)\n",
      "Epoch 067/100 | Loss 1.1551 | Win/lose count 21.0/15.299999999999972 (5.700000000000028)\n",
      "Epoch 068/100 | Loss 1.2121 | Win/lose count 21.5/18.49999999999998 (3.0000000000000213)\n",
      "Epoch 069/100 | Loss 1.1895 | Win/lose count 23.5/15.199999999999976 (8.300000000000024)\n",
      "Epoch 070/100 | Loss 1.0964 | Win/lose count 23.0/18.699999999999996 (4.300000000000004)\n",
      "Epoch 071/100 | Loss 1.1360 | Win/lose count 23.5/20.40000000000003 (3.0999999999999694)\n",
      "Epoch 072/100 | Loss 1.0682 | Win/lose count 23.0/14.499999999999972 (8.500000000000028)\n",
      "Epoch 073/100 | Loss 1.1078 | Win/lose count 23.5/19.299999999999997 (4.200000000000003)\n",
      "Epoch 074/100 | Loss 1.1198 | Win/lose count 18.0/13.599999999999971 (4.400000000000029)\n",
      "Epoch 075/100 | Loss 1.1191 | Win/lose count 16.0/15.099999999999966 (0.9000000000000341)\n",
      "Epoch 076/100 | Loss 1.0990 | Win/lose count 22.5/11.29999999999998 (11.20000000000002)\n",
      "Epoch 077/100 | Loss 0.7284 | Win/lose count 10.5/22.300000000000047 (-11.800000000000047)\n",
      "Epoch 078/100 | Loss 1.1887 | Win/lose count 19.5/16.89999999999999 (2.6000000000000085)\n",
      "Epoch 079/100 | Loss 1.0272 | Win/lose count 22.0/12.099999999999975 (9.900000000000025)\n",
      "Epoch 080/100 | Loss 0.8276 | Win/lose count 25.5/18.099999999999998 (7.400000000000002)\n",
      "Epoch 081/100 | Loss 0.7348 | Win/lose count 21.5/13.89999999999997 (7.60000000000003)\n",
      "Epoch 082/100 | Loss 0.6201 | Win/lose count 23.5/12.499999999999982 (11.000000000000018)\n",
      "Epoch 083/100 | Loss 0.9326 | Win/lose count 24.0/13.599999999999978 (10.400000000000022)\n",
      "Epoch 084/100 | Loss 0.8513 | Win/lose count 23.0/11.899999999999977 (11.100000000000023)\n",
      "Epoch 085/100 | Loss 0.9059 | Win/lose count 23.0/14.399999999999972 (8.600000000000028)\n",
      "Epoch 086/100 | Loss 0.6563 | Win/lose count 22.5/11.099999999999977 (11.400000000000023)\n",
      "Epoch 087/100 | Loss 0.9411 | Win/lose count 19.0/12.899999999999977 (6.100000000000023)\n",
      "Epoch 088/100 | Loss 0.8489 | Win/lose count 21.0/16.899999999999984 (4.100000000000016)\n",
      "Epoch 089/100 | Loss 1.1781 | Win/lose count 23.0/13.79999999999998 (9.20000000000002)\n",
      "Epoch 090/100 | Loss 1.0715 | Win/lose count 19.0/10.799999999999978 (8.200000000000022)\n",
      "Epoch 091/100 | Loss 0.9384 | Win/lose count 21.5/16.699999999999978 (4.800000000000022)\n",
      "Epoch 092/100 | Loss 0.9573 | Win/lose count 24.0/14.299999999999972 (9.700000000000028)\n",
      "Epoch 093/100 | Loss 0.8082 | Win/lose count 25.5/8.999999999999984 (16.500000000000014)\n",
      "Epoch 094/100 | Loss 0.9810 | Win/lose count 23.0/13.999999999999975 (9.000000000000025)\n",
      "Epoch 095/100 | Loss 0.8973 | Win/lose count 22.5/13.69999999999997 (8.80000000000003)\n",
      "Epoch 096/100 | Loss 0.9242 | Win/lose count 24.5/15.799999999999978 (8.700000000000022)\n",
      "Epoch 097/100 | Loss 1.1019 | Win/lose count 21.0/13.99999999999998 (7.0000000000000195)\n",
      "Epoch 098/100 | Loss 0.9221 | Win/lose count 24.5/16.199999999999967 (8.300000000000033)\n",
      "Epoch 099/100 | Loss 0.8250 | Win/lose count 22.0/17.299999999999986 (4.7000000000000135)\n"
     ]
    },
    {
     "data": {
      "text/html": [
       "<video alt=\"test\" controls>\n",
       "                <source src=\"data:video/mp4;base64,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\" type=\"video/mp4\" />\n",
       "             </video>"
      ],
      "text/plain": [
       "<IPython.core.display.HTML object>"
      ]
     },
     "execution_count": 66,
     "metadata": {
      "tags": []
     },
     "output_type": "execute_result"
    }
   ],
   "source": [
    "# Training\n",
    "env = EnvironmentExploring(grid_size=size, max_time=T, temperature=0.3)\n",
    "agent = DQN_CNN(size, lr=.1, epsilon = 0.1, memory_size=2000, batch_size = 32,n_state=3)\n",
    "train_explore(agent, env, epochs_train, prefix='cnn_train_explore')\n",
    "HTML(display_videos('cnn_train_explore10.mp4'))"
   ]
  },
  {
   "cell_type": "code",
   "execution_count": 67,
   "metadata": {
    "colab": {
     "base_uri": "https://localhost:8080/",
     "height": 488
    },
    "colab_type": "code",
    "id": "AbaZvmr9b72x",
    "outputId": "7d75c1f5-ac70-42d4-c931-0dc1fa85ec90"
   },
   "outputs": [
    {
     "name": "stdout",
     "output_type": "stream",
     "text": [
      "Win/lose count 25.5/4.0. Average score (21.5)\n",
      "Win/lose count 26.0/3.0. Average score (22.25)\n",
      "Win/lose count 25.5/4.0. Average score (22.0)\n",
      "Win/lose count 26.0/6.0. Average score (21.5)\n",
      "Win/lose count 23.0/7.0. Average score (20.4)\n",
      "Win/lose count 18.0/3.0. Average score (19.5)\n",
      "Win/lose count 25.5/3.0. Average score (19.928571428571427)\n",
      "Win/lose count 15.0/2.0. Average score (19.0625)\n",
      "Win/lose count 22.5/3.0. Average score (19.11111111111111)\n",
      "Win/lose count 25.0/6.0. Average score (19.1)\n",
      "Final score: 19.1\n"
     ]
    },
    {
     "data": {
      "text/html": [
       "<video alt=\"test\" controls>\n",
       "                <source src=\"data:video/mp4;base64,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\" type=\"video/mp4\" />\n",
       "             </video>"
      ],
      "text/plain": [
       "<IPython.core.display.HTML object>"
      ]
     },
     "execution_count": 67,
     "metadata": {
      "tags": []
     },
     "output_type": "execute_result"
    }
   ],
   "source": [
    "env = EnvironmentExploring(grid_size=size, max_time=T,temperature=0.3)\n",
    "agent_cnn = DQN_CNN(size, lr=.1, epsilon = 0.1, memory_size=2000, batch_size = 32)\n",
    "agent_cnn.load(name_weights='cnn_train_exploremodel.h5',name_model='cnn_train_exploremodel.json')\n",
    "test(agent,env,epochs_test,prefix='cnn_test_explore')\n",
    "HTML(display_videos('cnn_test_explore9.mp4'))"
   ]
  },
  {
   "cell_type": "markdown",
   "metadata": {
    "colab_type": "text",
    "id": "DcYWG1DIb72z"
   },
   "source": [
    "***\n",
    "***\n",
    "__BONUS question__ Use the expert DQN from the previous question to generate some winning games. Train a model that mimicks its behavior. Compare the performances."
   ]
  },
  {
   "cell_type": "markdown",
   "metadata": {
    "colab_type": "text",
    "id": "FoCNZNNRb72z"
   },
   "source": []
  },
  {
   "cell_type": "markdown",
   "metadata": {
    "colab_type": "text",
    "id": "9ctV-Tgqb720"
   },
   "source": [
    "***"
   ]
  }
 ],
 "metadata": {
  "colab": {
   "collapsed_sections": [],
   "name": "DQN_project_MVA_Philippe.ipynb",
   "provenance": [],
   "version": "0.3.2"
  },
  "kernelspec": {
   "display_name": "Python 3",
   "language": "python",
   "name": "python3"
  },
  "language_info": {
   "codemirror_mode": {
    "name": "ipython",
    "version": 3
   },
   "file_extension": ".py",
   "mimetype": "text/x-python",
   "name": "python",
   "nbconvert_exporter": "python",
   "pygments_lexer": "ipython3",
   "version": "3.6.5"
  }
 },
 "nbformat": 4,
 "nbformat_minor": 1
}
